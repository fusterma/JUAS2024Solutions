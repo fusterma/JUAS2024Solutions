{
 "cells": [
  {
   "cell_type": "markdown",
   "id": "38b0608a-73ad-437c-aa0f-0d4f2b920242",
   "metadata": {},
   "source": [
    "# Tutorial 6: Building a transfer line"
   ]
  },
  {
   "cell_type": "markdown",
   "id": "1f7f5654-5d52-4bc0-8893-3bf9d1f1eacc",
   "metadata": {},
   "source": [
    "# Python libraries "
   ]
  },
  {
   "cell_type": "code",
   "execution_count": 1,
   "id": "7093a2b5-3499-445e-b761-f807f391036c",
   "metadata": {},
   "outputs": [],
   "source": [
    "#########################################\n",
    "# Python libraries                      #\n",
    "#########################################\n",
    "from matplotlib import pyplot as plt\n",
    "import numpy as np\n",
    "import pandas as pd\n",
    "\n",
    "#########################################\n",
    "# Cpymad library                        #\n",
    "#########################################\n",
    "from cpymad.madx import Madx "
   ]
  },
  {
   "cell_type": "markdown",
   "id": "b05635f9-18fc-4937-85bc-52866bcccf35",
   "metadata": {},
   "source": [
    "# Launching MAD-X"
   ]
  },
  {
   "cell_type": "code",
   "execution_count": 2,
   "id": "1a7dc5f2-62c4-4878-8cfc-b707086e8dd6",
   "metadata": {},
   "outputs": [
    {
     "name": "stdout",
     "output_type": "stream",
     "text": [
      "\n",
      "  ++++++++++++++++++++++++++++++++++++++++++++\n",
      "  +     MAD-X 5.07.00  (64 bit, Darwin)      +\n",
      "  + Support: mad@cern.ch, http://cern.ch/mad +\n",
      "  + Release   date: 2021.05.03               +\n",
      "  + Execution date: 2023.01.12 11:39:29      +\n",
      "  ++++++++++++++++++++++++++++++++++++++++++++\n"
     ]
    }
   ],
   "source": [
    "# madx = Madx(stdout=True)\n",
    "madx = Madx()"
   ]
  },
  {
   "cell_type": "markdown",
   "id": "670241b3-b489-472c-965f-0de432efe791",
   "metadata": {},
   "source": [
    "# Questions"
   ]
  },
  {
   "cell_type": "markdown",
   "id": "eff897b3",
   "metadata": {},
   "source": [
    "#### 1. Build a transfer line for a 2 GeV proton beam of 10 m total length, $L_{tot}$, with 4 quadrupoles of 0.1 m long, $L_q$, and a strength, k, of 0.1 $m^{-2}$. Place the quadrupoles centered at 2, 4, 6, and 8 m. What is the error message that you get if you try to find a periodic solution? Why? "
   ]
  },
  {
   "cell_type": "code",
   "execution_count": null,
   "id": "73f66b65-141f-44f7-9fbf-4ad29c667830",
   "metadata": {},
   "outputs": [],
   "source": []
  },
  {
   "cell_type": "code",
   "execution_count": null,
   "id": "7701c29a-3589-4173-9c33-2bf904cc8793",
   "metadata": {},
   "outputs": [],
   "source": []
  },
  {
   "cell_type": "markdown",
   "id": "2506681b",
   "metadata": {},
   "source": [
    "#### 2. Compute the linear optics functions for the transfer line assuming ($\\beta_{x}$ , $\\alpha_{x}$ , $\\beta_{y}$ , $\\alpha_{y}$) = (1 m, 0, 2 m, 0) at the start of it. What are the values of the linear optics functions at the end of the transfer line ($\\beta_{x, end1}$ , $\\alpha_{x, end1}$ , $\\beta_{y, end1}$ , $\\alpha_{y, end1}$)?\n",
    "\n",
    "#### In order to define the linear optics functions at the beginning of the beamline for the twiss:\n",
    "\n",
    "\ttwiss, sequence = name, betx = ??, alfx = ??, bety = ??, alfy = ??;"
   ]
  },
  {
   "cell_type": "code",
   "execution_count": null,
   "id": "cab23f95-842b-4832-a3b8-2ec0fccff685",
   "metadata": {},
   "outputs": [],
   "source": []
  },
  {
   "cell_type": "code",
   "execution_count": null,
   "id": "8d3fedcb-06d3-4e9b-ab1a-09f3d4d9b9bd",
   "metadata": {},
   "outputs": [],
   "source": []
  },
  {
   "cell_type": "markdown",
   "id": "a8e01e27",
   "metadata": {},
   "source": [
    "#### 3. Starting from ($\\beta_{x}$ , $\\alpha_{x}$ , $\\beta_{y}$ , $\\alpha_{y}$) = (1 m, 0, 2 m, 0) match the line to get at the end of the transfer line the following optics ($\\beta_{x, end2}$ , $\\alpha_{x, end2}$ , $\\beta_{y, end2}$ , $\\alpha_{y, end2}$) = (2 m, 0, 1 m, 0).\n",
    "\n",
    "#### In order to perform a local matching, use the commands below:\n",
    "\n",
    "\t\tmatch, sequence = ??;\n",
    "\t\tconstraint, range = #e, betx = ??;\n",
    "\t\tconstraint, range = #e, alfx = ??;\n",
    "\t\tvary, name = ??, step = 0.00001;\n",
    "\t\tvary, name = ??, step = 0.00001;\n",
    "\t\tlmdif, call = 50, tolerances = 1e-6;\n",
    "\t\tendmatch;"
   ]
  },
  {
   "cell_type": "code",
   "execution_count": null,
   "id": "c4a042df-ec37-4d46-947c-4c0e820812a8",
   "metadata": {},
   "outputs": [],
   "source": []
  },
  {
   "cell_type": "code",
   "execution_count": null,
   "id": "3fc44599-644b-4f53-b24b-8b083141dc98",
   "metadata": {},
   "outputs": [],
   "source": []
  },
  {
   "cell_type": "code",
   "execution_count": null,
   "id": "99643b8d-7fb3-427a-b3f0-170fee2b0416",
   "metadata": {},
   "outputs": [],
   "source": []
  },
  {
   "cell_type": "markdown",
   "id": "10447a1f",
   "metadata": {},
   "source": [
    "#### 4. Now, starting from ($\\beta_{x}$ , $\\alpha_{x}$ , $\\beta_{y}$ , $\\alpha_{y}$) = (1 m, 0, 2 m, 0) and the quadrupoles' strength computed in question 3, match to the ($\\beta_{x, end1}$ , $\\alpha_{x, end1}$ , $\\beta_{y, end1}$ , $\\alpha_{y, end1}$) found in the question number 2. Can you find back the initial quadrupoles' strength of 0.1 $m^{-2}$ from question 1? "
   ]
  },
  {
   "cell_type": "code",
   "execution_count": null,
   "id": "e9cb14f1",
   "metadata": {},
   "outputs": [],
   "source": []
  },
  {
   "cell_type": "code",
   "execution_count": null,
   "id": "0020c173",
   "metadata": {},
   "outputs": [],
   "source": []
  },
  {
   "cell_type": "markdown",
   "id": "732ae726",
   "metadata": {},
   "source": [
    "#### 5. Consider that the quadrupoles have an excitation current of a 100 A · $m^{2}$ and an excitation magnetic factor of 2 T/m/A and an aperture of 40 mm diameter. Compute the magnetic field at the poles of the four quadrupoles for the two matching solutions obtained in question 2 and 4 assuming a linear regime and using a dimensional approach"
   ]
  },
  {
   "cell_type": "code",
   "execution_count": null,
   "id": "96c92a7c",
   "metadata": {},
   "outputs": [],
   "source": []
  },
  {
   "cell_type": "code",
   "execution_count": null,
   "id": "712b24fa",
   "metadata": {},
   "outputs": [],
   "source": []
  }
 ],
 "metadata": {
  "kernelspec": {
   "display_name": "Python 3 (ipykernel)",
   "language": "python",
   "name": "python3"
  },
  "language_info": {
   "codemirror_mode": {
    "name": "ipython",
    "version": 3
   },
   "file_extension": ".py",
   "mimetype": "text/x-python",
   "name": "python",
   "nbconvert_exporter": "python",
   "pygments_lexer": "ipython3",
   "version": "3.11.5"
  }
 },
 "nbformat": 4,
 "nbformat_minor": 5
}
