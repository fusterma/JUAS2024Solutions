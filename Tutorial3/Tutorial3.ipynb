{
 "cells": [
  {
   "cell_type": "markdown",
   "id": "da1200e0-8abe-4530-ab90-d595e0b23ade",
   "metadata": {},
   "source": [
    "# Tutorial 3: Building a circular machine"
   ]
  },
  {
   "cell_type": "markdown",
   "id": "803eb301-adf4-4bb9-b415-6248f7c7db27",
   "metadata": {},
   "source": [
    "# Python libraries "
   ]
  },
  {
   "cell_type": "code",
   "execution_count": 1,
   "id": "8b364b0a-2195-4926-bbfd-e9fe8082a4f6",
   "metadata": {},
   "outputs": [],
   "source": [
    "#########################################\n",
    "# Python libraries                      #\n",
    "#########################################\n",
    "from matplotlib import pyplot as plt\n",
    "import numpy as np\n",
    "import pandas as pd\n",
    "\n",
    "#########################################\n",
    "# Cpymad library                        #\n",
    "#########################################\n",
    "from cpymad.madx import Madx "
   ]
  },
  {
   "cell_type": "markdown",
   "id": "50c845f7-c6a3-4da6-95a1-927660d70dea",
   "metadata": {},
   "source": [
    "# Launching MAD-X"
   ]
  },
  {
   "cell_type": "code",
   "execution_count": 2,
   "id": "ef31d9d5-7141-4013-8ac9-a30a37e2b20f",
   "metadata": {},
   "outputs": [
    {
     "name": "stdout",
     "output_type": "stream",
     "text": [
      "\n",
      "  ++++++++++++++++++++++++++++++++++++++++++++\n",
      "  +     MAD-X 5.09.00  (64 bit, Darwin)      +\n",
      "  + Support: mad@cern.ch, http://cern.ch/mad +\n",
      "  + Release   date: 2023.05.05               +\n",
      "  + Execution date: 2024.01.16 16:51:32      +\n",
      "  ++++++++++++++++++++++++++++++++++++++++++++\n"
     ]
    }
   ],
   "source": [
    "# madx = Madx(stdout=True)\n",
    "madx = Madx()"
   ]
  },
  {
   "cell_type": "markdown",
   "id": "9698a5fe-faf3-4708-8262-f1f848f48f3b",
   "metadata": {},
   "source": [
    "# Questions"
   ]
  },
  {
   "cell_type": "markdown",
   "id": "d939d6a6",
   "metadata": {},
   "source": [
    "#### 1. Consider the first FODO cell designed in Tutorial 2 and add 4 sector dipoles of 15 m long, assuming a drift space between the magnets as illustrated in Fig. 4.  For computing the required bending angle, consider a ring with 736 dipoles with equal bending angles\n",
    "\n",
    "\n",
    "    In order to install the dipoles in the lattice, first define the new element with the appropriate MAD-X command:\n",
    "\n",
    "         mb : sbend, angle = ??, l = ??; \n",
    "\t\n",
    "    Then, introduce them into the sequence description block and define their location:\n",
    "\n",
    "         mb1 : mb, at = ??; "
   ]
  },
  {
   "cell_type": "markdown",
   "id": "2d3754f0",
   "metadata": {},
   "source": [
    "#### First, compute the required bending angle for a circular orbit: $2\\pi=N\\theta$ and then complete the lattice in the Tutorial3.madx file"
   ]
  },
  {
   "cell_type": "code",
   "execution_count": 1,
   "id": "1c867ffc-12e7-467e-a25a-2ab4e42517e7",
   "metadata": {
    "tags": []
   },
   "outputs": [],
   "source": [
    "#madx.call('Tutorial3.madx')"
   ]
  },
  {
   "cell_type": "code",
   "execution_count": null,
   "id": "951e5145-5634-40f5-8fd1-da0990227c5a",
   "metadata": {},
   "outputs": [],
   "source": []
  },
  {
   "cell_type": "code",
   "execution_count": null,
   "id": "1b9876e2-9426-4a02-96d7-a9d87d7ee94c",
   "metadata": {},
   "outputs": [],
   "source": []
  },
  {
   "cell_type": "markdown",
   "id": "4897b6e1",
   "metadata": {},
   "source": [
    "#### 2. Using the twiss command compute the linear optics functions. Do the dipoles (weak focusing) affect the maximum of the $\\beta$-functions? And the dispersion?"
   ]
  },
  {
   "cell_type": "code",
   "execution_count": null,
   "id": "39ac305f",
   "metadata": {},
   "outputs": [],
   "source": []
  },
  {
   "cell_type": "code",
   "execution_count": null,
   "id": "1cac1cdd",
   "metadata": {},
   "outputs": [],
   "source": []
  },
  {
   "cell_type": "markdown",
   "id": "82ab5e4c",
   "metadata": {},
   "source": [
    "#### 3. From the phase advance of the FODO cell compute the horizontal and vertical tunes of the machine."
   ]
  },
  {
   "cell_type": "code",
   "execution_count": null,
   "id": "b4285c0f",
   "metadata": {},
   "outputs": [],
   "source": []
  },
  {
   "cell_type": "code",
   "execution_count": null,
   "id": "52a84856-c2fe-47bb-983f-b6837b585545",
   "metadata": {},
   "outputs": [],
   "source": []
  },
  {
   "cell_type": "code",
   "execution_count": null,
   "id": "cc432c31",
   "metadata": {},
   "outputs": [],
   "source": []
  },
  {
   "cell_type": "markdown",
   "id": "c73b1f3e",
   "metadata": {},
   "source": [
    "#### Using the MAD-X match block on a single FODO cell, match the tunes of the machine to 46.0 in both planes.\n",
    "\n",
    "\t\tmatch, sequence = ??;\n",
    "\t\tglobal, q1 = ??;\n",
    "\t\tglobal, q2 = ??;\n",
    "\t\tvary, name = ??, step = 0.00001;\n",
    "\t\tvary, name = ??, step = 0.00001;\n",
    "\t\tlmdif, call = 50, tolerance = 1e-6;\n",
    "\t\tendmatch;\n",
    "\n"
   ]
  },
  {
   "cell_type": "code",
   "execution_count": null,
   "id": "d4405772",
   "metadata": {},
   "outputs": [],
   "source": []
  },
  {
   "cell_type": "code",
   "execution_count": null,
   "id": "d682481f",
   "metadata": {},
   "outputs": [],
   "source": []
  },
  {
   "cell_type": "markdown",
   "id": "52468e34",
   "metadata": {},
   "source": [
    "#### 5. If we change the beam energy to a total beam energy of 7 TeV, which are the new tunes of the machine? Why?"
   ]
  },
  {
   "cell_type": "code",
   "execution_count": null,
   "id": "b97df552",
   "metadata": {},
   "outputs": [],
   "source": []
  },
  {
   "cell_type": "code",
   "execution_count": null,
   "id": "9358f6c3",
   "metadata": {},
   "outputs": [],
   "source": []
  },
  {
   "cell_type": "markdown",
   "id": "030f5e42",
   "metadata": {},
   "source": [
    "#### 6. What is the maximum tune that you can reach with such a lattice? HINT: what is the maximum phase advance per FODO cell in the thin lens approximation?"
   ]
  },
  {
   "cell_type": "code",
   "execution_count": null,
   "id": "3172109f",
   "metadata": {},
   "outputs": [],
   "source": []
  },
  {
   "cell_type": "code",
   "execution_count": null,
   "id": "55747183-bd6e-443d-9cba-e11c9394fccb",
   "metadata": {},
   "outputs": [],
   "source": []
  }
 ],
 "metadata": {
  "kernelspec": {
   "display_name": "Python 3 (ipykernel)",
   "language": "python",
   "name": "python3"
  },
  "language_info": {
   "codemirror_mode": {
    "name": "ipython",
    "version": 3
   },
   "file_extension": ".py",
   "mimetype": "text/x-python",
   "name": "python",
   "nbconvert_exporter": "python",
   "pygments_lexer": "ipython3",
   "version": "3.11.5"
  }
 },
 "nbformat": 4,
 "nbformat_minor": 5
}
