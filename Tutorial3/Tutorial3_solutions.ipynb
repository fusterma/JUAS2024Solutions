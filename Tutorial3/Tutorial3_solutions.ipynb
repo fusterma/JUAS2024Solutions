{
 "cells": [
  {
   "cell_type": "markdown",
   "id": "6b7f03b5-4209-42f2-9dd4-5545eb4f8b75",
   "metadata": {},
   "source": [
    "# Tutorial 3: Building a circular machine"
   ]
  },
  {
   "cell_type": "markdown",
   "id": "affb5a19-3311-42ac-857a-aef513f46593",
   "metadata": {},
   "source": [
    "# Python libraries "
   ]
  },
  {
   "cell_type": "code",
   "execution_count": 8,
   "id": "6b4f9ad1-1a9f-402f-992b-5fd303fd17a9",
   "metadata": {
    "tags": []
   },
   "outputs": [],
   "source": [
    "##############Ç###########################\n",
    "# Python libraries                      #\n",
    "#########################################\n",
    "from matplotlib import pyplot as plt\n",
    "import numpy as np\n",
    "import pandas as pd\n",
    "\n",
    "#########################################\n",
    "# Cpymad library                        #\n",
    "#########################################\n",
    "from cpymad.madx import Madx "
   ]
  },
  {
   "cell_type": "markdown",
   "id": "1ec62152-0799-4db6-93c5-5c864df4c014",
   "metadata": {},
   "source": [
    "# Launching MAD-X"
   ]
  },
  {
   "cell_type": "code",
   "execution_count": 9,
   "id": "e82b302c-9586-4ece-a7a8-5233cb4ebc11",
   "metadata": {
    "tags": []
   },
   "outputs": [
    {
     "name": "stdout",
     "output_type": "stream",
     "text": [
      "\n",
      "  ++++++++++++++++++++++++++++++++++++++++++++\n",
      "  +     MAD-X 5.09.00  (64 bit, Darwin)      +\n",
      "  + Support: mad@cern.ch, http://cern.ch/mad +\n",
      "  + Release   date: 2023.05.05               +\n",
      "  + Execution date: 2024.01.18 20:14:09      +\n",
      "  ++++++++++++++++++++++++++++++++++++++++++++\n"
     ]
    }
   ],
   "source": [
    "# madx = Madx(stdout=True)\n",
    "madx = Madx()"
   ]
  },
  {
   "cell_type": "markdown",
   "id": "8ed12fec-21c9-4f87-8689-0c3a45e01c24",
   "metadata": {},
   "source": [
    "# Questions"
   ]
  },
  {
   "cell_type": "markdown",
   "id": "d939d6a6",
   "metadata": {},
   "source": [
    "#### 1. Consider the first FODO cell designed in Tutorial 2 and add 4 sector dipoles of 15 m long, assuming a drift space between the magnets as illustrated in Fig. 4.  For computing the required bending angle, consider a ring with 736 dipoles with equal bending angles.\n",
    "\n",
    "\n"
   ]
  },
  {
   "cell_type": "markdown",
   "id": "2d3754f0",
   "metadata": {},
   "source": [
    "#### First, we compute the required bending angle for a circular orbit:\n",
    "\n",
    "#### $2*\\pi=N\\theta$"
   ]
  },
  {
   "cell_type": "code",
   "execution_count": 10,
   "id": "be5f1059-8ca2-493c-a0f8-161b23f861f9",
   "metadata": {
    "tags": []
   },
   "outputs": [
    {
     "data": {
      "text/plain": [
       "0.008536936558667916"
      ]
     },
     "execution_count": 10,
     "metadata": {},
     "output_type": "execute_result"
    }
   ],
   "source": [
    "2*np.pi/736"
   ]
  },
  {
   "cell_type": "code",
   "execution_count": 11,
   "id": "1c867ffc-12e7-467e-a25a-2ab4e42517e7",
   "metadata": {
    "tags": []
   },
   "outputs": [
    {
     "name": "stdout",
     "output_type": "stream",
     "text": [
      "! ****************************************************************************\n",
      "\n",
      "! Adding dipoles to the Tutorial 2 first FODO lattice\n",
      "\n",
      "! \n",
      "\n",
      "! ****************************************************************************\n",
      "\n",
      "\n",
      "\n",
      "! ****************************************************************************\n",
      "\n",
      "! Definition of parameters\n",
      "\n",
      "! ****************************************************************************\n",
      "\n",
      "\n",
      "\n",
      "l_cell=100;\n",
      "\n",
      "quadrupoleLength=5;\n",
      "\n",
      "myKF:=2.8/l_cell/quadrupoleLength;// m^-2\n",
      "\n",
      "myKD:=-myKF;\n",
      "\n",
      "nBend=736;\n",
      "\n",
      "dipoleLength=15;\n",
      "\n",
      "myAngle=2*pi/nBend;\n",
      "\n",
      "\n",
      "\n",
      "! ****************************************************************************\n",
      "\n",
      "! Definition of magnets\n",
      "\n",
      "! **************************************************************************** \n",
      "\n",
      "QF: quadrupole, L=quadrupoleLength, K1:=myKF;\n",
      "\n",
      "QD: quadrupole, L=quadrupoleLength, K1:=myKD;\n",
      "\n",
      "BM: sbend, L=dipoleLength, angle:=myAngle;\n",
      "\n",
      "\n",
      "\n",
      "! ****************************************************************************\n",
      "\n",
      "! Definition of sequence\n",
      "\n",
      "! ****************************************************************************\n",
      "\n",
      "myCell:sequence, refer=entry, L=l_cell;\n",
      "\n",
      "q1: QF, at=0;\n",
      "\n",
      "b1: BM, at=5+quadrupoleLength/2, from=q1; ! from is w.r.t. the centre of the element\n",
      "\n",
      "b2: BM, at=5+dipoleLength/2, from=b1;\n",
      "\n",
      "q2: QD, at=l_cell/2;\n",
      "\n",
      "b3: BM, at=5+quadrupoleLength/2, from=q2; \n",
      "\n",
      "b4: BM, at=5+dipoleLength/2, from=b3;\n",
      "\n",
      "endsequence;\n",
      "\n",
      "\n",
      "\n",
      "! ****************************************************************************\n",
      "\n",
      "! Definition of beam\n",
      "\n",
      "! ****************************************************************************\n",
      "\n",
      "\n",
      "\n",
      "beam, particle=proton, energy=2;\n",
      "\n",
      "\n",
      "\n",
      "! ****************************************************************************\n",
      "\n",
      "! Use of the sequence\n",
      "\n",
      "! ****************************************************************************\n",
      "\n",
      "\n",
      "\n",
      "use, sequence=myCell;\n",
      "\n",
      "\n",
      "\n",
      "! ****************************************************************************\n",
      "\n",
      "! TWISS BEFORE MATCHING\n",
      "\n",
      "! ****************************************************************************\n",
      "\n",
      "\n",
      "\n",
      "twiss, file=beforematching.madx;\n",
      "\n",
      "enter Twiss module\n",
      "  \n",
      "iteration:   1 error:   0.000000E+00 deltap:   0.000000E+00\n",
      "orbit:   0.000000E+00  0.000000E+00  0.000000E+00  0.000000E+00  0.000000E+00  0.000000E+00\n",
      "\n",
      "++++++ table: summ\n",
      "\n",
      "            length             orbit5               alfa            gammatr \n",
      "               100                 -0    0.0006051853679        40.64955451 \n",
      "\n",
      "                q1                dq1            betxmax              dxmax \n",
      "       0.236500685      -0.3303719898        160.5475138        2.768499586 \n",
      "\n",
      "             dxrms             xcomax             xcorms                 q2 \n",
      "        2.21206016                  0                  0       0.2363728498 \n",
      "\n",
      "               dq2            betymax              dymax              dyrms \n",
      "     -0.3304814715        160.6036546                  0                  0 \n",
      "\n",
      "            ycomax             ycorms             deltap            synch_1 \n",
      "                 0                  0                  0                  0 \n",
      "\n",
      "           synch_2            synch_3            synch_4            synch_5 \n",
      "                 0                  0                  0                  0 \n",
      "\n",
      "           synch_6            synch_8             nflips              dqmin \n",
      "                 0                  0                  0                  0 \n",
      "\n",
      "       dqmin_phase \n",
      "                 0 \n"
     ]
    }
   ],
   "source": [
    "madx.call('Tutorial3_solution.madx')"
   ]
  },
  {
   "cell_type": "markdown",
   "id": "d783b2b8-08aa-485b-bf32-2c2251dd91a9",
   "metadata": {},
   "source": [
    "#### Saving the content of the TWISS and SUMM tables in two panda dataframes named as first_twiss_with_dipoles and first_summary_with_dipoles"
   ]
  },
  {
   "cell_type": "code",
   "execution_count": 12,
   "id": "403e2bca",
   "metadata": {
    "tags": []
   },
   "outputs": [],
   "source": [
    "first_twiss_with_dipoles=madx.table.twiss.dframe()\n",
    "first_summary_with_dipoles=madx.table.summ.dframe()"
   ]
  },
  {
   "cell_type": "markdown",
   "id": "fa64ca53-1f2e-4276-91cf-e3d6ca31c343",
   "metadata": {},
   "source": [
    "#### Selecting the desired columns:"
   ]
  },
  {
   "cell_type": "code",
   "execution_count": 13,
   "id": "41ac32c5",
   "metadata": {
    "tags": []
   },
   "outputs": [
    {
     "data": {
      "text/html": [
       "<div>\n",
       "<style scoped>\n",
       "    .dataframe tbody tr th:only-of-type {\n",
       "        vertical-align: middle;\n",
       "    }\n",
       "\n",
       "    .dataframe tbody tr th {\n",
       "        vertical-align: top;\n",
       "    }\n",
       "\n",
       "    .dataframe thead th {\n",
       "        text-align: right;\n",
       "    }\n",
       "</style>\n",
       "<table border=\"1\" class=\"dataframe\">\n",
       "  <thead>\n",
       "    <tr style=\"text-align: right;\">\n",
       "      <th></th>\n",
       "      <th>name</th>\n",
       "      <th>keyword</th>\n",
       "      <th>s</th>\n",
       "      <th>x</th>\n",
       "      <th>y</th>\n",
       "      <th>px</th>\n",
       "      <th>py</th>\n",
       "      <th>betx</th>\n",
       "      <th>alfx</th>\n",
       "      <th>mux</th>\n",
       "      <th>bety</th>\n",
       "      <th>alfy</th>\n",
       "      <th>muy</th>\n",
       "      <th>dx</th>\n",
       "      <th>dy</th>\n",
       "      <th>dpx</th>\n",
       "      <th>dpy</th>\n",
       "    </tr>\n",
       "  </thead>\n",
       "  <tbody>\n",
       "    <tr>\n",
       "      <th>#s</th>\n",
       "      <td>mycell$start:1</td>\n",
       "      <td>marker</td>\n",
       "      <td>0.0</td>\n",
       "      <td>0.0</td>\n",
       "      <td>0.0</td>\n",
       "      <td>0.0</td>\n",
       "      <td>0.0</td>\n",
       "      <td>160.547514</td>\n",
       "      <td>-2.259046</td>\n",
       "      <td>0.000000</td>\n",
       "      <td>34.217492</td>\n",
       "      <td>0.548735</td>\n",
       "      <td>0.000000</td>\n",
       "      <td>2.768500</td>\n",
       "      <td>0.0</td>\n",
       "      <td>0.039218</td>\n",
       "      <td>-0.0</td>\n",
       "    </tr>\n",
       "    <tr>\n",
       "      <th>q1</th>\n",
       "      <td>q1:1</td>\n",
       "      <td>quadrupole</td>\n",
       "      <td>5.0</td>\n",
       "      <td>0.0</td>\n",
       "      <td>0.0</td>\n",
       "      <td>0.0</td>\n",
       "      <td>0.0</td>\n",
       "      <td>160.547514</td>\n",
       "      <td>2.259046</td>\n",
       "      <td>0.004843</td>\n",
       "      <td>34.217492</td>\n",
       "      <td>-0.548735</td>\n",
       "      <td>0.023892</td>\n",
       "      <td>2.768500</td>\n",
       "      <td>0.0</td>\n",
       "      <td>-0.039218</td>\n",
       "      <td>0.0</td>\n",
       "    </tr>\n",
       "    <tr>\n",
       "      <th>drift_0[0]</th>\n",
       "      <td>drift_0:0</td>\n",
       "      <td>drift</td>\n",
       "      <td>10.0</td>\n",
       "      <td>0.0</td>\n",
       "      <td>0.0</td>\n",
       "      <td>0.0</td>\n",
       "      <td>0.0</td>\n",
       "      <td>138.907441</td>\n",
       "      <td>2.068969</td>\n",
       "      <td>0.010172</td>\n",
       "      <td>40.655458</td>\n",
       "      <td>-0.738858</td>\n",
       "      <td>0.045293</td>\n",
       "      <td>2.572412</td>\n",
       "      <td>0.0</td>\n",
       "      <td>-0.039218</td>\n",
       "      <td>0.0</td>\n",
       "    </tr>\n",
       "    <tr>\n",
       "      <th>b1</th>\n",
       "      <td>b1:1</td>\n",
       "      <td>sbend</td>\n",
       "      <td>25.0</td>\n",
       "      <td>0.0</td>\n",
       "      <td>0.0</td>\n",
       "      <td>0.0</td>\n",
       "      <td>0.0</td>\n",
       "      <td>85.384548</td>\n",
       "      <td>1.499138</td>\n",
       "      <td>0.032163</td>\n",
       "      <td>71.376768</td>\n",
       "      <td>-1.309229</td>\n",
       "      <td>0.090204</td>\n",
       "      <td>2.056561</td>\n",
       "      <td>0.0</td>\n",
       "      <td>-0.029562</td>\n",
       "      <td>0.0</td>\n",
       "    </tr>\n",
       "    <tr>\n",
       "      <th>drift_1[0]</th>\n",
       "      <td>drift_1:0</td>\n",
       "      <td>drift</td>\n",
       "      <td>30.0</td>\n",
       "      <td>0.0</td>\n",
       "      <td>0.0</td>\n",
       "      <td>0.0</td>\n",
       "      <td>0.0</td>\n",
       "      <td>71.343992</td>\n",
       "      <td>1.308974</td>\n",
       "      <td>0.042366</td>\n",
       "      <td>85.419675</td>\n",
       "      <td>-1.499352</td>\n",
       "      <td>0.100402</td>\n",
       "      <td>1.908751</td>\n",
       "      <td>0.0</td>\n",
       "      <td>-0.029562</td>\n",
       "      <td>0.0</td>\n",
       "    </tr>\n",
       "    <tr>\n",
       "      <th>b2</th>\n",
       "      <td>b2:1</td>\n",
       "      <td>sbend</td>\n",
       "      <td>45.0</td>\n",
       "      <td>0.0</td>\n",
       "      <td>0.0</td>\n",
       "      <td>0.0</td>\n",
       "      <td>0.0</td>\n",
       "      <td>40.628665</td>\n",
       "      <td>0.738665</td>\n",
       "      <td>0.087302</td>\n",
       "      <td>138.955807</td>\n",
       "      <td>-2.069723</td>\n",
       "      <td>0.122384</td>\n",
       "      <td>1.537755</td>\n",
       "      <td>0.0</td>\n",
       "      <td>-0.019904</td>\n",
       "      <td>0.0</td>\n",
       "    </tr>\n",
       "    <tr>\n",
       "      <th>drift_2[0]</th>\n",
       "      <td>drift_2:0</td>\n",
       "      <td>drift</td>\n",
       "      <td>50.0</td>\n",
       "      <td>0.0</td>\n",
       "      <td>0.0</td>\n",
       "      <td>0.0</td>\n",
       "      <td>0.0</td>\n",
       "      <td>34.193082</td>\n",
       "      <td>0.548451</td>\n",
       "      <td>0.108717</td>\n",
       "      <td>160.603655</td>\n",
       "      <td>-2.259847</td>\n",
       "      <td>0.127712</td>\n",
       "      <td>1.438237</td>\n",
       "      <td>0.0</td>\n",
       "      <td>-0.019904</td>\n",
       "      <td>0.0</td>\n",
       "    </tr>\n",
       "    <tr>\n",
       "      <th>q2</th>\n",
       "      <td>q2:1</td>\n",
       "      <td>quadrupole</td>\n",
       "      <td>55.0</td>\n",
       "      <td>0.0</td>\n",
       "      <td>0.0</td>\n",
       "      <td>0.0</td>\n",
       "      <td>0.0</td>\n",
       "      <td>34.193082</td>\n",
       "      <td>-0.548451</td>\n",
       "      <td>0.132626</td>\n",
       "      <td>160.603655</td>\n",
       "      <td>2.259847</td>\n",
       "      <td>0.132553</td>\n",
       "      <td>1.438237</td>\n",
       "      <td>0.0</td>\n",
       "      <td>0.019904</td>\n",
       "      <td>0.0</td>\n",
       "    </tr>\n",
       "    <tr>\n",
       "      <th>drift_3[0]</th>\n",
       "      <td>drift_3:0</td>\n",
       "      <td>drift</td>\n",
       "      <td>60.0</td>\n",
       "      <td>0.0</td>\n",
       "      <td>0.0</td>\n",
       "      <td>0.0</td>\n",
       "      <td>0.0</td>\n",
       "      <td>40.628665</td>\n",
       "      <td>-0.738665</td>\n",
       "      <td>0.154041</td>\n",
       "      <td>138.955807</td>\n",
       "      <td>2.069723</td>\n",
       "      <td>0.137881</td>\n",
       "      <td>1.537755</td>\n",
       "      <td>0.0</td>\n",
       "      <td>0.019904</td>\n",
       "      <td>0.0</td>\n",
       "    </tr>\n",
       "    <tr>\n",
       "      <th>b3</th>\n",
       "      <td>b3:1</td>\n",
       "      <td>sbend</td>\n",
       "      <td>75.0</td>\n",
       "      <td>0.0</td>\n",
       "      <td>0.0</td>\n",
       "      <td>0.0</td>\n",
       "      <td>0.0</td>\n",
       "      <td>71.343992</td>\n",
       "      <td>-1.308974</td>\n",
       "      <td>0.198978</td>\n",
       "      <td>85.419675</td>\n",
       "      <td>1.499352</td>\n",
       "      <td>0.159863</td>\n",
       "      <td>1.908751</td>\n",
       "      <td>0.0</td>\n",
       "      <td>0.029562</td>\n",
       "      <td>0.0</td>\n",
       "    </tr>\n",
       "    <tr>\n",
       "      <th>drift_4[0]</th>\n",
       "      <td>drift_4:0</td>\n",
       "      <td>drift</td>\n",
       "      <td>80.0</td>\n",
       "      <td>0.0</td>\n",
       "      <td>0.0</td>\n",
       "      <td>0.0</td>\n",
       "      <td>0.0</td>\n",
       "      <td>85.384548</td>\n",
       "      <td>-1.499138</td>\n",
       "      <td>0.209180</td>\n",
       "      <td>71.376768</td>\n",
       "      <td>1.309229</td>\n",
       "      <td>0.170062</td>\n",
       "      <td>2.056561</td>\n",
       "      <td>0.0</td>\n",
       "      <td>0.029562</td>\n",
       "      <td>0.0</td>\n",
       "    </tr>\n",
       "    <tr>\n",
       "      <th>b4</th>\n",
       "      <td>b4:1</td>\n",
       "      <td>sbend</td>\n",
       "      <td>95.0</td>\n",
       "      <td>0.0</td>\n",
       "      <td>0.0</td>\n",
       "      <td>0.0</td>\n",
       "      <td>0.0</td>\n",
       "      <td>138.907441</td>\n",
       "      <td>-2.068969</td>\n",
       "      <td>0.231171</td>\n",
       "      <td>40.655458</td>\n",
       "      <td>0.738858</td>\n",
       "      <td>0.214973</td>\n",
       "      <td>2.572412</td>\n",
       "      <td>0.0</td>\n",
       "      <td>0.039218</td>\n",
       "      <td>0.0</td>\n",
       "    </tr>\n",
       "    <tr>\n",
       "      <th>drift_5[0]</th>\n",
       "      <td>drift_5:0</td>\n",
       "      <td>drift</td>\n",
       "      <td>100.0</td>\n",
       "      <td>0.0</td>\n",
       "      <td>0.0</td>\n",
       "      <td>0.0</td>\n",
       "      <td>0.0</td>\n",
       "      <td>160.547514</td>\n",
       "      <td>-2.259046</td>\n",
       "      <td>0.236501</td>\n",
       "      <td>34.217492</td>\n",
       "      <td>0.548735</td>\n",
       "      <td>0.236373</td>\n",
       "      <td>2.768500</td>\n",
       "      <td>0.0</td>\n",
       "      <td>0.039218</td>\n",
       "      <td>0.0</td>\n",
       "    </tr>\n",
       "    <tr>\n",
       "      <th>#e</th>\n",
       "      <td>mycell$end:1</td>\n",
       "      <td>marker</td>\n",
       "      <td>100.0</td>\n",
       "      <td>0.0</td>\n",
       "      <td>0.0</td>\n",
       "      <td>0.0</td>\n",
       "      <td>0.0</td>\n",
       "      <td>160.547514</td>\n",
       "      <td>-2.259046</td>\n",
       "      <td>0.236501</td>\n",
       "      <td>34.217492</td>\n",
       "      <td>0.548735</td>\n",
       "      <td>0.236373</td>\n",
       "      <td>2.768500</td>\n",
       "      <td>0.0</td>\n",
       "      <td>0.039218</td>\n",
       "      <td>0.0</td>\n",
       "    </tr>\n",
       "  </tbody>\n",
       "</table>\n",
       "</div>"
      ],
      "text/plain": [
       "                      name     keyword      s    x    y   px   py        betx  \\\n",
       "#s          mycell$start:1      marker    0.0  0.0  0.0  0.0  0.0  160.547514   \n",
       "q1                    q1:1  quadrupole    5.0  0.0  0.0  0.0  0.0  160.547514   \n",
       "drift_0[0]       drift_0:0       drift   10.0  0.0  0.0  0.0  0.0  138.907441   \n",
       "b1                    b1:1       sbend   25.0  0.0  0.0  0.0  0.0   85.384548   \n",
       "drift_1[0]       drift_1:0       drift   30.0  0.0  0.0  0.0  0.0   71.343992   \n",
       "b2                    b2:1       sbend   45.0  0.0  0.0  0.0  0.0   40.628665   \n",
       "drift_2[0]       drift_2:0       drift   50.0  0.0  0.0  0.0  0.0   34.193082   \n",
       "q2                    q2:1  quadrupole   55.0  0.0  0.0  0.0  0.0   34.193082   \n",
       "drift_3[0]       drift_3:0       drift   60.0  0.0  0.0  0.0  0.0   40.628665   \n",
       "b3                    b3:1       sbend   75.0  0.0  0.0  0.0  0.0   71.343992   \n",
       "drift_4[0]       drift_4:0       drift   80.0  0.0  0.0  0.0  0.0   85.384548   \n",
       "b4                    b4:1       sbend   95.0  0.0  0.0  0.0  0.0  138.907441   \n",
       "drift_5[0]       drift_5:0       drift  100.0  0.0  0.0  0.0  0.0  160.547514   \n",
       "#e            mycell$end:1      marker  100.0  0.0  0.0  0.0  0.0  160.547514   \n",
       "\n",
       "                alfx       mux        bety      alfy       muy        dx   dy  \\\n",
       "#s         -2.259046  0.000000   34.217492  0.548735  0.000000  2.768500  0.0   \n",
       "q1          2.259046  0.004843   34.217492 -0.548735  0.023892  2.768500  0.0   \n",
       "drift_0[0]  2.068969  0.010172   40.655458 -0.738858  0.045293  2.572412  0.0   \n",
       "b1          1.499138  0.032163   71.376768 -1.309229  0.090204  2.056561  0.0   \n",
       "drift_1[0]  1.308974  0.042366   85.419675 -1.499352  0.100402  1.908751  0.0   \n",
       "b2          0.738665  0.087302  138.955807 -2.069723  0.122384  1.537755  0.0   \n",
       "drift_2[0]  0.548451  0.108717  160.603655 -2.259847  0.127712  1.438237  0.0   \n",
       "q2         -0.548451  0.132626  160.603655  2.259847  0.132553  1.438237  0.0   \n",
       "drift_3[0] -0.738665  0.154041  138.955807  2.069723  0.137881  1.537755  0.0   \n",
       "b3         -1.308974  0.198978   85.419675  1.499352  0.159863  1.908751  0.0   \n",
       "drift_4[0] -1.499138  0.209180   71.376768  1.309229  0.170062  2.056561  0.0   \n",
       "b4         -2.068969  0.231171   40.655458  0.738858  0.214973  2.572412  0.0   \n",
       "drift_5[0] -2.259046  0.236501   34.217492  0.548735  0.236373  2.768500  0.0   \n",
       "#e         -2.259046  0.236501   34.217492  0.548735  0.236373  2.768500  0.0   \n",
       "\n",
       "                 dpx  dpy  \n",
       "#s          0.039218 -0.0  \n",
       "q1         -0.039218  0.0  \n",
       "drift_0[0] -0.039218  0.0  \n",
       "b1         -0.029562  0.0  \n",
       "drift_1[0] -0.029562  0.0  \n",
       "b2         -0.019904  0.0  \n",
       "drift_2[0] -0.019904  0.0  \n",
       "q2          0.019904  0.0  \n",
       "drift_3[0]  0.019904  0.0  \n",
       "b3          0.029562  0.0  \n",
       "drift_4[0]  0.029562  0.0  \n",
       "b4          0.039218  0.0  \n",
       "drift_5[0]  0.039218  0.0  \n",
       "#e          0.039218  0.0  "
      ]
     },
     "execution_count": 13,
     "metadata": {},
     "output_type": "execute_result"
    }
   ],
   "source": [
    "first_twiss_with_dipoles[['name', 'keyword', 's','x','y','px','py','betx', 'alfx', 'mux', \n",
    "                          'bety', 'alfy', 'muy','dx','dy','dpx','dpy',]]"
   ]
  },
  {
   "cell_type": "code",
   "execution_count": 14,
   "id": "99c0c39b-1687-4de0-8b32-e978302f0898",
   "metadata": {
    "tags": []
   },
   "outputs": [
    {
     "data": {
      "text/html": [
       "<div>\n",
       "<style scoped>\n",
       "    .dataframe tbody tr th:only-of-type {\n",
       "        vertical-align: middle;\n",
       "    }\n",
       "\n",
       "    .dataframe tbody tr th {\n",
       "        vertical-align: top;\n",
       "    }\n",
       "\n",
       "    .dataframe thead th {\n",
       "        text-align: right;\n",
       "    }\n",
       "</style>\n",
       "<table border=\"1\" class=\"dataframe\">\n",
       "  <thead>\n",
       "    <tr style=\"text-align: right;\">\n",
       "      <th></th>\n",
       "      <th>length</th>\n",
       "      <th>orbit5</th>\n",
       "      <th>alfa</th>\n",
       "      <th>gammatr</th>\n",
       "      <th>q1</th>\n",
       "      <th>dq1</th>\n",
       "      <th>betxmax</th>\n",
       "      <th>dxmax</th>\n",
       "      <th>dxrms</th>\n",
       "      <th>xcomax</th>\n",
       "      <th>...</th>\n",
       "      <th>synch_1</th>\n",
       "      <th>synch_2</th>\n",
       "      <th>synch_3</th>\n",
       "      <th>synch_4</th>\n",
       "      <th>synch_5</th>\n",
       "      <th>synch_6</th>\n",
       "      <th>synch_8</th>\n",
       "      <th>nflips</th>\n",
       "      <th>dqmin</th>\n",
       "      <th>dqmin_phase</th>\n",
       "    </tr>\n",
       "  </thead>\n",
       "  <tbody>\n",
       "    <tr>\n",
       "      <th>#e</th>\n",
       "      <td>100.0</td>\n",
       "      <td>-0.0</td>\n",
       "      <td>0.000605</td>\n",
       "      <td>40.649555</td>\n",
       "      <td>0.236501</td>\n",
       "      <td>-0.330372</td>\n",
       "      <td>160.547514</td>\n",
       "      <td>2.7685</td>\n",
       "      <td>2.21206</td>\n",
       "      <td>0.0</td>\n",
       "      <td>...</td>\n",
       "      <td>0.0</td>\n",
       "      <td>0.0</td>\n",
       "      <td>0.0</td>\n",
       "      <td>0.0</td>\n",
       "      <td>0.0</td>\n",
       "      <td>0.0</td>\n",
       "      <td>0.0</td>\n",
       "      <td>0.0</td>\n",
       "      <td>0.0</td>\n",
       "      <td>0.0</td>\n",
       "    </tr>\n",
       "  </tbody>\n",
       "</table>\n",
       "<p>1 rows × 29 columns</p>\n",
       "</div>"
      ],
      "text/plain": [
       "    length  orbit5      alfa    gammatr        q1       dq1     betxmax  \\\n",
       "#e   100.0    -0.0  0.000605  40.649555  0.236501 -0.330372  160.547514   \n",
       "\n",
       "     dxmax    dxrms  xcomax  ...  synch_1  synch_2  synch_3  synch_4  synch_5  \\\n",
       "#e  2.7685  2.21206     0.0  ...      0.0      0.0      0.0      0.0      0.0   \n",
       "\n",
       "    synch_6  synch_8  nflips  dqmin  dqmin_phase  \n",
       "#e      0.0      0.0     0.0    0.0          0.0  \n",
       "\n",
       "[1 rows x 29 columns]"
      ]
     },
     "execution_count": 14,
     "metadata": {},
     "output_type": "execute_result"
    }
   ],
   "source": [
    "first_summary_with_dipoles"
   ]
  },
  {
   "cell_type": "markdown",
   "id": "5eb86b7c-539a-4e23-a6bd-36c15cbc5910",
   "metadata": {},
   "source": [
    "# PLOT"
   ]
  },
  {
   "cell_type": "code",
   "execution_count": 15,
   "id": "fe229e33-edd3-4d26-96a2-b7c95f52aca4",
   "metadata": {
    "tags": []
   },
   "outputs": [
    {
     "data": {
      "image/png": "[encoded data removed]",
      "text/plain": [
       "<Figure size 1300x800 with 4 Axes>"
      ]
     },
     "metadata": {},
     "output_type": "display_data"
    }
   ],
   "source": [
    "import sys\n",
    "sys.path.append('../')\n",
    "import lib_JUAS2024 as lib\n",
    "lib.plot_layout(first_twiss_with_dipoles)"
   ]
  },
  {
   "cell_type": "markdown",
   "id": "4897b6e1",
   "metadata": {},
   "source": [
    "#### 2. Using the twiss command compute the linear optics functions. Do the dipoles (weak focusing) affect the maximum of the $\\beta$-functions? And the dispersion?"
   ]
  },
  {
   "cell_type": "markdown",
   "id": "c940999e-8275-4e22-a23e-8365316c8f85",
   "metadata": {},
   "source": [
    "#### First we compute the TWISS without the dipoles"
   ]
  },
  {
   "cell_type": "code",
   "execution_count": 16,
   "id": "39ac305f",
   "metadata": {
    "tags": []
   },
   "outputs": [
    {
     "name": "stdout",
     "output_type": "stream",
     "text": [
      "++++++ info: myangle redefined\n",
      "enter Twiss module\n",
      "  \n",
      "iteration:   1 error:   0.000000E+00 deltap:   0.000000E+00\n",
      "orbit:   0.000000E+00  0.000000E+00  0.000000E+00  0.000000E+00  0.000000E+00  0.000000E+00\n",
      "\n",
      "++++++ table: summ\n",
      "\n",
      "            length             orbit5               alfa            gammatr \n",
      "               100                 -0                  0                  0 \n",
      "\n",
      "                q1                dq1            betxmax              dxmax \n",
      "      0.2363728498      -0.3307573246        160.6036546                  0 \n",
      "\n",
      "             dxrms             xcomax             xcorms                 q2 \n",
      "                 0                  0                  0       0.2363728498 \n",
      "\n",
      "               dq2            betymax              dymax              dyrms \n",
      "     -0.3307573246        160.6036546                 -0                  0 \n",
      "\n",
      "            ycomax             ycorms             deltap            synch_1 \n",
      "                 0                  0                  0                  0 \n",
      "\n",
      "           synch_2            synch_3            synch_4            synch_5 \n",
      "                 0                  0                  0                  0 \n",
      "\n",
      "           synch_6            synch_8             nflips              dqmin \n",
      "                 0                  0                  0                  0 \n",
      "\n",
      "       dqmin_phase \n",
      "                 0 \n"
     ]
    }
   ],
   "source": [
    "myString='''\n",
    "myAngle=0;\n",
    "use,sequence=myCell;      \n",
    "twiss;\n",
    "'''\n",
    "madx.input(myString);"
   ]
  },
  {
   "cell_type": "markdown",
   "id": "86d266b7-3329-4575-b36f-54b305a67ac0",
   "metadata": {},
   "source": [
    "#### Saving the content of the TWISS and SUMM table in two panda dataframes named as firts_twiss_without_dipoles and first_twiss_without_dipoles"
   ]
  },
  {
   "cell_type": "code",
   "execution_count": 17,
   "id": "1cac1cdd",
   "metadata": {
    "tags": []
   },
   "outputs": [],
   "source": [
    "first_twiss_without_dipoles=madx.table.twiss.dframe()\n",
    "first_summary_without_dipoles=madx.table.summ.dframe()"
   ]
  },
  {
   "cell_type": "markdown",
   "id": "339306fc-6fdc-4c40-83b0-7fc6a21ec85d",
   "metadata": {},
   "source": [
    "#### From the TWISS data we can select the desired columns"
   ]
  },
  {
   "cell_type": "code",
   "execution_count": 18,
   "id": "a6bf9aad",
   "metadata": {
    "tags": []
   },
   "outputs": [
    {
     "data": {
      "text/html": [
       "<div>\n",
       "<style scoped>\n",
       "    .dataframe tbody tr th:only-of-type {\n",
       "        vertical-align: middle;\n",
       "    }\n",
       "\n",
       "    .dataframe tbody tr th {\n",
       "        vertical-align: top;\n",
       "    }\n",
       "\n",
       "    .dataframe thead th {\n",
       "        text-align: right;\n",
       "    }\n",
       "</style>\n",
       "<table border=\"1\" class=\"dataframe\">\n",
       "  <thead>\n",
       "    <tr style=\"text-align: right;\">\n",
       "      <th></th>\n",
       "      <th>name</th>\n",
       "      <th>keyword</th>\n",
       "      <th>s</th>\n",
       "      <th>x</th>\n",
       "      <th>y</th>\n",
       "      <th>px</th>\n",
       "      <th>py</th>\n",
       "      <th>betx</th>\n",
       "      <th>alfx</th>\n",
       "      <th>mux</th>\n",
       "      <th>bety</th>\n",
       "      <th>alfy</th>\n",
       "      <th>muy</th>\n",
       "      <th>dx</th>\n",
       "      <th>dy</th>\n",
       "      <th>dpx</th>\n",
       "      <th>dpy</th>\n",
       "    </tr>\n",
       "  </thead>\n",
       "  <tbody>\n",
       "    <tr>\n",
       "      <th>#s</th>\n",
       "      <td>mycell$start:1</td>\n",
       "      <td>marker</td>\n",
       "      <td>0.0</td>\n",
       "      <td>0.0</td>\n",
       "      <td>0.0</td>\n",
       "      <td>0.0</td>\n",
       "      <td>0.0</td>\n",
       "      <td>160.603655</td>\n",
       "      <td>-2.259847</td>\n",
       "      <td>0.000000</td>\n",
       "      <td>34.217492</td>\n",
       "      <td>0.548735</td>\n",
       "      <td>0.000000</td>\n",
       "      <td>0.0</td>\n",
       "      <td>-0.0</td>\n",
       "      <td>-0.0</td>\n",
       "      <td>-0.0</td>\n",
       "    </tr>\n",
       "    <tr>\n",
       "      <th>q1</th>\n",
       "      <td>q1:1</td>\n",
       "      <td>quadrupole</td>\n",
       "      <td>5.0</td>\n",
       "      <td>0.0</td>\n",
       "      <td>0.0</td>\n",
       "      <td>0.0</td>\n",
       "      <td>0.0</td>\n",
       "      <td>160.603655</td>\n",
       "      <td>2.259847</td>\n",
       "      <td>0.004841</td>\n",
       "      <td>34.217492</td>\n",
       "      <td>-0.548735</td>\n",
       "      <td>0.023892</td>\n",
       "      <td>0.0</td>\n",
       "      <td>0.0</td>\n",
       "      <td>0.0</td>\n",
       "      <td>0.0</td>\n",
       "    </tr>\n",
       "    <tr>\n",
       "      <th>drift_0[0]</th>\n",
       "      <td>drift_0:0</td>\n",
       "      <td>drift</td>\n",
       "      <td>10.0</td>\n",
       "      <td>0.0</td>\n",
       "      <td>0.0</td>\n",
       "      <td>0.0</td>\n",
       "      <td>0.0</td>\n",
       "      <td>138.955807</td>\n",
       "      <td>2.069723</td>\n",
       "      <td>0.010169</td>\n",
       "      <td>40.655458</td>\n",
       "      <td>-0.738858</td>\n",
       "      <td>0.045293</td>\n",
       "      <td>0.0</td>\n",
       "      <td>0.0</td>\n",
       "      <td>0.0</td>\n",
       "      <td>0.0</td>\n",
       "    </tr>\n",
       "    <tr>\n",
       "      <th>b1</th>\n",
       "      <td>b1:1</td>\n",
       "      <td>sbend</td>\n",
       "      <td>25.0</td>\n",
       "      <td>0.0</td>\n",
       "      <td>0.0</td>\n",
       "      <td>0.0</td>\n",
       "      <td>0.0</td>\n",
       "      <td>85.419675</td>\n",
       "      <td>1.499352</td>\n",
       "      <td>0.032151</td>\n",
       "      <td>71.376768</td>\n",
       "      <td>-1.309229</td>\n",
       "      <td>0.090204</td>\n",
       "      <td>0.0</td>\n",
       "      <td>0.0</td>\n",
       "      <td>0.0</td>\n",
       "      <td>0.0</td>\n",
       "    </tr>\n",
       "    <tr>\n",
       "      <th>drift_1[0]</th>\n",
       "      <td>drift_1:0</td>\n",
       "      <td>drift</td>\n",
       "      <td>30.0</td>\n",
       "      <td>0.0</td>\n",
       "      <td>0.0</td>\n",
       "      <td>0.0</td>\n",
       "      <td>0.0</td>\n",
       "      <td>71.376768</td>\n",
       "      <td>1.309229</td>\n",
       "      <td>0.042350</td>\n",
       "      <td>85.419675</td>\n",
       "      <td>-1.499352</td>\n",
       "      <td>0.100402</td>\n",
       "      <td>0.0</td>\n",
       "      <td>0.0</td>\n",
       "      <td>0.0</td>\n",
       "      <td>0.0</td>\n",
       "    </tr>\n",
       "    <tr>\n",
       "      <th>b2</th>\n",
       "      <td>b2:1</td>\n",
       "      <td>sbend</td>\n",
       "      <td>45.0</td>\n",
       "      <td>0.0</td>\n",
       "      <td>0.0</td>\n",
       "      <td>0.0</td>\n",
       "      <td>0.0</td>\n",
       "      <td>40.655458</td>\n",
       "      <td>0.738858</td>\n",
       "      <td>0.087260</td>\n",
       "      <td>138.955807</td>\n",
       "      <td>-2.069723</td>\n",
       "      <td>0.122384</td>\n",
       "      <td>0.0</td>\n",
       "      <td>0.0</td>\n",
       "      <td>0.0</td>\n",
       "      <td>0.0</td>\n",
       "    </tr>\n",
       "    <tr>\n",
       "      <th>drift_2[0]</th>\n",
       "      <td>drift_2:0</td>\n",
       "      <td>drift</td>\n",
       "      <td>50.0</td>\n",
       "      <td>0.0</td>\n",
       "      <td>0.0</td>\n",
       "      <td>0.0</td>\n",
       "      <td>0.0</td>\n",
       "      <td>34.217492</td>\n",
       "      <td>0.548735</td>\n",
       "      <td>0.108661</td>\n",
       "      <td>160.603655</td>\n",
       "      <td>-2.259847</td>\n",
       "      <td>0.127712</td>\n",
       "      <td>0.0</td>\n",
       "      <td>0.0</td>\n",
       "      <td>0.0</td>\n",
       "      <td>0.0</td>\n",
       "    </tr>\n",
       "    <tr>\n",
       "      <th>q2</th>\n",
       "      <td>q2:1</td>\n",
       "      <td>quadrupole</td>\n",
       "      <td>55.0</td>\n",
       "      <td>0.0</td>\n",
       "      <td>0.0</td>\n",
       "      <td>0.0</td>\n",
       "      <td>0.0</td>\n",
       "      <td>34.217492</td>\n",
       "      <td>-0.548735</td>\n",
       "      <td>0.132553</td>\n",
       "      <td>160.603655</td>\n",
       "      <td>2.259847</td>\n",
       "      <td>0.132553</td>\n",
       "      <td>0.0</td>\n",
       "      <td>0.0</td>\n",
       "      <td>0.0</td>\n",
       "      <td>0.0</td>\n",
       "    </tr>\n",
       "    <tr>\n",
       "      <th>drift_3[0]</th>\n",
       "      <td>drift_3:0</td>\n",
       "      <td>drift</td>\n",
       "      <td>60.0</td>\n",
       "      <td>0.0</td>\n",
       "      <td>0.0</td>\n",
       "      <td>0.0</td>\n",
       "      <td>0.0</td>\n",
       "      <td>40.655458</td>\n",
       "      <td>-0.738858</td>\n",
       "      <td>0.153953</td>\n",
       "      <td>138.955807</td>\n",
       "      <td>2.069723</td>\n",
       "      <td>0.137881</td>\n",
       "      <td>0.0</td>\n",
       "      <td>0.0</td>\n",
       "      <td>0.0</td>\n",
       "      <td>0.0</td>\n",
       "    </tr>\n",
       "    <tr>\n",
       "      <th>b3</th>\n",
       "      <td>b3:1</td>\n",
       "      <td>sbend</td>\n",
       "      <td>75.0</td>\n",
       "      <td>0.0</td>\n",
       "      <td>0.0</td>\n",
       "      <td>0.0</td>\n",
       "      <td>0.0</td>\n",
       "      <td>71.376768</td>\n",
       "      <td>-1.309229</td>\n",
       "      <td>0.198864</td>\n",
       "      <td>85.419675</td>\n",
       "      <td>1.499352</td>\n",
       "      <td>0.159863</td>\n",
       "      <td>0.0</td>\n",
       "      <td>0.0</td>\n",
       "      <td>0.0</td>\n",
       "      <td>0.0</td>\n",
       "    </tr>\n",
       "    <tr>\n",
       "      <th>drift_4[0]</th>\n",
       "      <td>drift_4:0</td>\n",
       "      <td>drift</td>\n",
       "      <td>80.0</td>\n",
       "      <td>0.0</td>\n",
       "      <td>0.0</td>\n",
       "      <td>0.0</td>\n",
       "      <td>0.0</td>\n",
       "      <td>85.419675</td>\n",
       "      <td>-1.499352</td>\n",
       "      <td>0.209063</td>\n",
       "      <td>71.376768</td>\n",
       "      <td>1.309229</td>\n",
       "      <td>0.170062</td>\n",
       "      <td>0.0</td>\n",
       "      <td>0.0</td>\n",
       "      <td>0.0</td>\n",
       "      <td>0.0</td>\n",
       "    </tr>\n",
       "    <tr>\n",
       "      <th>b4</th>\n",
       "      <td>b4:1</td>\n",
       "      <td>sbend</td>\n",
       "      <td>95.0</td>\n",
       "      <td>0.0</td>\n",
       "      <td>0.0</td>\n",
       "      <td>0.0</td>\n",
       "      <td>0.0</td>\n",
       "      <td>138.955807</td>\n",
       "      <td>-2.069723</td>\n",
       "      <td>0.231045</td>\n",
       "      <td>40.655458</td>\n",
       "      <td>0.738858</td>\n",
       "      <td>0.214973</td>\n",
       "      <td>0.0</td>\n",
       "      <td>0.0</td>\n",
       "      <td>0.0</td>\n",
       "      <td>0.0</td>\n",
       "    </tr>\n",
       "    <tr>\n",
       "      <th>drift_5[0]</th>\n",
       "      <td>drift_5:0</td>\n",
       "      <td>drift</td>\n",
       "      <td>100.0</td>\n",
       "      <td>0.0</td>\n",
       "      <td>0.0</td>\n",
       "      <td>0.0</td>\n",
       "      <td>0.0</td>\n",
       "      <td>160.603655</td>\n",
       "      <td>-2.259847</td>\n",
       "      <td>0.236373</td>\n",
       "      <td>34.217492</td>\n",
       "      <td>0.548735</td>\n",
       "      <td>0.236373</td>\n",
       "      <td>0.0</td>\n",
       "      <td>0.0</td>\n",
       "      <td>0.0</td>\n",
       "      <td>0.0</td>\n",
       "    </tr>\n",
       "    <tr>\n",
       "      <th>#e</th>\n",
       "      <td>mycell$end:1</td>\n",
       "      <td>marker</td>\n",
       "      <td>100.0</td>\n",
       "      <td>0.0</td>\n",
       "      <td>0.0</td>\n",
       "      <td>0.0</td>\n",
       "      <td>0.0</td>\n",
       "      <td>160.603655</td>\n",
       "      <td>-2.259847</td>\n",
       "      <td>0.236373</td>\n",
       "      <td>34.217492</td>\n",
       "      <td>0.548735</td>\n",
       "      <td>0.236373</td>\n",
       "      <td>0.0</td>\n",
       "      <td>0.0</td>\n",
       "      <td>0.0</td>\n",
       "      <td>0.0</td>\n",
       "    </tr>\n",
       "  </tbody>\n",
       "</table>\n",
       "</div>"
      ],
      "text/plain": [
       "                      name     keyword      s    x    y   px   py        betx  \\\n",
       "#s          mycell$start:1      marker    0.0  0.0  0.0  0.0  0.0  160.603655   \n",
       "q1                    q1:1  quadrupole    5.0  0.0  0.0  0.0  0.0  160.603655   \n",
       "drift_0[0]       drift_0:0       drift   10.0  0.0  0.0  0.0  0.0  138.955807   \n",
       "b1                    b1:1       sbend   25.0  0.0  0.0  0.0  0.0   85.419675   \n",
       "drift_1[0]       drift_1:0       drift   30.0  0.0  0.0  0.0  0.0   71.376768   \n",
       "b2                    b2:1       sbend   45.0  0.0  0.0  0.0  0.0   40.655458   \n",
       "drift_2[0]       drift_2:0       drift   50.0  0.0  0.0  0.0  0.0   34.217492   \n",
       "q2                    q2:1  quadrupole   55.0  0.0  0.0  0.0  0.0   34.217492   \n",
       "drift_3[0]       drift_3:0       drift   60.0  0.0  0.0  0.0  0.0   40.655458   \n",
       "b3                    b3:1       sbend   75.0  0.0  0.0  0.0  0.0   71.376768   \n",
       "drift_4[0]       drift_4:0       drift   80.0  0.0  0.0  0.0  0.0   85.419675   \n",
       "b4                    b4:1       sbend   95.0  0.0  0.0  0.0  0.0  138.955807   \n",
       "drift_5[0]       drift_5:0       drift  100.0  0.0  0.0  0.0  0.0  160.603655   \n",
       "#e            mycell$end:1      marker  100.0  0.0  0.0  0.0  0.0  160.603655   \n",
       "\n",
       "                alfx       mux        bety      alfy       muy   dx   dy  dpx  \\\n",
       "#s         -2.259847  0.000000   34.217492  0.548735  0.000000  0.0 -0.0 -0.0   \n",
       "q1          2.259847  0.004841   34.217492 -0.548735  0.023892  0.0  0.0  0.0   \n",
       "drift_0[0]  2.069723  0.010169   40.655458 -0.738858  0.045293  0.0  0.0  0.0   \n",
       "b1          1.499352  0.032151   71.376768 -1.309229  0.090204  0.0  0.0  0.0   \n",
       "drift_1[0]  1.309229  0.042350   85.419675 -1.499352  0.100402  0.0  0.0  0.0   \n",
       "b2          0.738858  0.087260  138.955807 -2.069723  0.122384  0.0  0.0  0.0   \n",
       "drift_2[0]  0.548735  0.108661  160.603655 -2.259847  0.127712  0.0  0.0  0.0   \n",
       "q2         -0.548735  0.132553  160.603655  2.259847  0.132553  0.0  0.0  0.0   \n",
       "drift_3[0] -0.738858  0.153953  138.955807  2.069723  0.137881  0.0  0.0  0.0   \n",
       "b3         -1.309229  0.198864   85.419675  1.499352  0.159863  0.0  0.0  0.0   \n",
       "drift_4[0] -1.499352  0.209063   71.376768  1.309229  0.170062  0.0  0.0  0.0   \n",
       "b4         -2.069723  0.231045   40.655458  0.738858  0.214973  0.0  0.0  0.0   \n",
       "drift_5[0] -2.259847  0.236373   34.217492  0.548735  0.236373  0.0  0.0  0.0   \n",
       "#e         -2.259847  0.236373   34.217492  0.548735  0.236373  0.0  0.0  0.0   \n",
       "\n",
       "            dpy  \n",
       "#s         -0.0  \n",
       "q1          0.0  \n",
       "drift_0[0]  0.0  \n",
       "b1          0.0  \n",
       "drift_1[0]  0.0  \n",
       "b2          0.0  \n",
       "drift_2[0]  0.0  \n",
       "q2          0.0  \n",
       "drift_3[0]  0.0  \n",
       "b3          0.0  \n",
       "drift_4[0]  0.0  \n",
       "b4          0.0  \n",
       "drift_5[0]  0.0  \n",
       "#e          0.0  "
      ]
     },
     "execution_count": 18,
     "metadata": {},
     "output_type": "execute_result"
    }
   ],
   "source": [
    "first_twiss_without_dipoles[['name', 'keyword', 's','x','y','px','py','betx', 'alfx', 'mux', \n",
    "                              'bety', 'alfy', 'muy','dx','dy','dpx','dpy']]"
   ]
  },
  {
   "cell_type": "markdown",
   "id": "8699ea1b-f147-4c3c-a525-d8f2ec790f94",
   "metadata": {},
   "source": [
    "#### We can now create a pandas dataframe with the information we want to compate from the TWISS obtained with and without dipoles"
   ]
  },
  {
   "cell_type": "code",
   "execution_count": 19,
   "id": "c778d9af",
   "metadata": {
    "tags": []
   },
   "outputs": [
    {
     "data": {
      "text/html": [
       "<div>\n",
       "<style scoped>\n",
       "    .dataframe tbody tr th:only-of-type {\n",
       "        vertical-align: middle;\n",
       "    }\n",
       "\n",
       "    .dataframe tbody tr th {\n",
       "        vertical-align: top;\n",
       "    }\n",
       "\n",
       "    .dataframe thead th {\n",
       "        text-align: right;\n",
       "    }\n",
       "</style>\n",
       "<table border=\"1\" class=\"dataframe\">\n",
       "  <thead>\n",
       "    <tr style=\"text-align: right;\">\n",
       "      <th></th>\n",
       "      <th>With dipoles</th>\n",
       "      <th>Without dipoles</th>\n",
       "    </tr>\n",
       "  </thead>\n",
       "  <tbody>\n",
       "    <tr>\n",
       "      <th>betx</th>\n",
       "      <td>160.547514</td>\n",
       "      <td>160.603655</td>\n",
       "    </tr>\n",
       "    <tr>\n",
       "      <th>alfx</th>\n",
       "      <td>2.259046</td>\n",
       "      <td>2.259847</td>\n",
       "    </tr>\n",
       "    <tr>\n",
       "      <th>mux</th>\n",
       "      <td>0.236501</td>\n",
       "      <td>0.236373</td>\n",
       "    </tr>\n",
       "    <tr>\n",
       "      <th>bety</th>\n",
       "      <td>160.603655</td>\n",
       "      <td>160.603655</td>\n",
       "    </tr>\n",
       "    <tr>\n",
       "      <th>alfy</th>\n",
       "      <td>2.259847</td>\n",
       "      <td>2.259847</td>\n",
       "    </tr>\n",
       "    <tr>\n",
       "      <th>muy</th>\n",
       "      <td>0.236373</td>\n",
       "      <td>0.236373</td>\n",
       "    </tr>\n",
       "    <tr>\n",
       "      <th>dx</th>\n",
       "      <td>2.7685</td>\n",
       "      <td>0.0</td>\n",
       "    </tr>\n",
       "    <tr>\n",
       "      <th>dy</th>\n",
       "      <td>0.0</td>\n",
       "      <td>0.0</td>\n",
       "    </tr>\n",
       "    <tr>\n",
       "      <th>dpx</th>\n",
       "      <td>0.039218</td>\n",
       "      <td>0.0</td>\n",
       "    </tr>\n",
       "    <tr>\n",
       "      <th>dpy</th>\n",
       "      <td>0.0</td>\n",
       "      <td>0.0</td>\n",
       "    </tr>\n",
       "  </tbody>\n",
       "</table>\n",
       "</div>"
      ],
      "text/plain": [
       "     With dipoles Without dipoles\n",
       "betx   160.547514      160.603655\n",
       "alfx     2.259046        2.259847\n",
       "mux      0.236501        0.236373\n",
       "bety   160.603655      160.603655\n",
       "alfy     2.259847        2.259847\n",
       "muy      0.236373        0.236373\n",
       "dx         2.7685             0.0\n",
       "dy            0.0             0.0\n",
       "dpx      0.039218             0.0\n",
       "dpy           0.0             0.0"
      ]
     },
     "execution_count": 19,
     "metadata": {},
     "output_type": "execute_result"
    }
   ],
   "source": [
    "comparison=pd.DataFrame({'With dipoles':first_twiss_with_dipoles.max(),'Without dipoles':first_twiss_without_dipoles.max()})\n",
    "comparison.loc[['betx', 'alfx', 'mux','bety', 'alfy', 'muy','dx','dy','dpx','dpy']]"
   ]
  },
  {
   "cell_type": "markdown",
   "id": "d136f81d-9ced-4d14-99ac-09b3e1cf62dc",
   "metadata": {},
   "source": [
    "#### And compute the relative variation on the maximum of the beta-function"
   ]
  },
  {
   "cell_type": "code",
   "execution_count": 20,
   "id": "14b2e7fb",
   "metadata": {
    "tags": []
   },
   "outputs": [
    {
     "name": "stdout",
     "output_type": "stream",
     "text": [
      "On the horizontal plane [%]\n",
      "0.03495607663009094\n",
      "On the vertical plane [%]\n",
      "0.0\n"
     ]
    }
   ],
   "source": [
    "betx_rel=(np.max(first_twiss_without_dipoles.betx)-np.max(first_twiss_with_dipoles.betx))/np.max(first_twiss_without_dipoles.betx)\n",
    "print (\"On the horizontal plane [%]\")\n",
    "print(betx_rel*100)\n",
    "\n",
    "bety_rel=(np.max(first_twiss_without_dipoles.bety)-np.max(first_twiss_with_dipoles.bety))/np.max(first_twiss_without_dipoles.bety)\n",
    "print(\"On the vertical plane [%]\")\n",
    "print(bety_rel*100)"
   ]
  },
  {
   "cell_type": "markdown",
   "id": "81135b3a-5549-4b78-a6f9-4b989b52674c",
   "metadata": {},
   "source": [
    "#### We can also compute the impact on the beam size"
   ]
  },
  {
   "cell_type": "code",
   "execution_count": 21,
   "id": "257ea31d",
   "metadata": {
    "tags": []
   },
   "outputs": [
    {
     "name": "stdout",
     "output_type": "stream",
     "text": [
      "0.00025409185177743577\n",
      "0.0002540474376245261\n"
     ]
    }
   ],
   "source": [
    "# First we compute the beam size for each case\n",
    "emittance_n=3e-6 #m*rad\n",
    "beta_gamma=7000/.938 # this is an approximation\n",
    "\n",
    "sigma_no_dipoles=np.sqrt(np.max(first_twiss_without_dipoles.betx)*emittance_n/beta_gamma)\n",
    "print(sigma_no_dipoles)\n",
    "\n",
    "sigma_with_dipoles=np.sqrt(np.max(first_twiss_with_dipoles.betx)*emittance_n/beta_gamma)\n",
    "print(sigma_with_dipoles)"
   ]
  },
  {
   "cell_type": "code",
   "execution_count": 22,
   "id": "9c314ca7",
   "metadata": {
    "tags": []
   },
   "outputs": [
    {
     "name": "stdout",
     "output_type": "stream",
     "text": [
      "On the horizontal beam size [%]\n",
      "0.017479565991182517\n"
     ]
    }
   ],
   "source": [
    "#Relative variation [%]\n",
    "betx_rel=(sigma_no_dipoles-sigma_with_dipoles)/sigma_no_dipoles\n",
    "print(\"On the horizontal beam size [%]\")\n",
    "print(betx_rel*100)"
   ]
  },
  {
   "cell_type": "markdown",
   "id": "82ab5e4c",
   "metadata": {},
   "source": [
    "#### 3. From the phase advance of the FODO cell compute the horizontal and vertical tunes of the machine"
   ]
  },
  {
   "cell_type": "markdown",
   "id": "6b3cf24c-34a9-4997-bcfe-6c45f01e7230",
   "metadata": {},
   "source": [
    "#### First we need to compute the total number of FODO cells needed for this machine"
   ]
  },
  {
   "cell_type": "code",
   "execution_count": 23,
   "id": "b4285c0f",
   "metadata": {
    "tags": []
   },
   "outputs": [
    {
     "data": {
      "text/plain": [
       "184.0"
      ]
     },
     "execution_count": 23,
     "metadata": {},
     "output_type": "execute_result"
    }
   ],
   "source": [
    "Ncells=736/4 \n",
    "Ncells"
   ]
  },
  {
   "cell_type": "markdown",
   "id": "52663a6e-20a8-4294-92a1-6ef25186ccdb",
   "metadata": {},
   "source": [
    "#### The machine tunes are therefore:"
   ]
  },
  {
   "cell_type": "markdown",
   "id": "c63416a1-8d50-4e33-9bec-ef9184fabdc6",
   "metadata": {},
   "source": [
    "#### REMEMBER the relation between the tune and the phase advance: Q=$\\mu/(2\\pi)$"
   ]
  },
  {
   "cell_type": "markdown",
   "id": "41b6d696-a2cb-45a9-a507-9646aeccf762",
   "metadata": {
    "tags": []
   },
   "source": [
    "#### Then, the tunes of the machine are:"
   ]
  },
  {
   "cell_type": "code",
   "execution_count": 24,
   "id": "cc432c31",
   "metadata": {
    "tags": []
   },
   "outputs": [
    {
     "data": {
      "text/plain": [
       "43.516126037479125"
      ]
     },
     "metadata": {},
     "output_type": "display_data"
    },
    {
     "data": {
      "text/plain": [
       "43.49260436271754"
      ]
     },
     "metadata": {},
     "output_type": "display_data"
    }
   ],
   "source": [
    "display(Ncells*first_twiss_with_dipoles['mux'].max())\n",
    "display(Ncells*first_twiss_with_dipoles['muy'].max())"
   ]
  },
  {
   "cell_type": "markdown",
   "id": "7de4de4f-e17a-419a-adaf-a84310e9a503",
   "metadata": {},
   "source": [
    "#### Being the tune of a single FODO cell:"
   ]
  },
  {
   "cell_type": "code",
   "execution_count": 25,
   "id": "b87e1aa0",
   "metadata": {
    "tags": []
   },
   "outputs": [
    {
     "data": {
      "text/plain": [
       "0.23650068498629961"
      ]
     },
     "metadata": {},
     "output_type": "display_data"
    },
    {
     "data": {
      "text/plain": [
       "0.23637284979737794"
      ]
     },
     "metadata": {},
     "output_type": "display_data"
    }
   ],
   "source": [
    "display(first_twiss_with_dipoles['mux'].max())\n",
    "display(first_twiss_with_dipoles['muy'].max())"
   ]
  },
  {
   "cell_type": "markdown",
   "id": "c73b1f3e",
   "metadata": {},
   "source": [
    "#### 4. Using the MAD-X match block on a single FODO cell, match the tunes of the machine to 46.0 in both planes.\n",
    "\n",
    "\t\tmatch, sequence = ??;\n",
    "\t\tglobal, q1 = ??;\n",
    "\t\tglobal, q2 = ??;\n",
    "\t\tvary, name = ??, step = 0.00001;\n",
    "\t\tvary, name = ??, step = 0.00001;\n",
    "\t\tlmdif, call = 50, tolerance = 1e-6;\n",
    "\t\tendmatch;\n",
    "\n"
   ]
  },
  {
   "cell_type": "markdown",
   "id": "4ca1e330-8b27-4313-bfa1-f04e38bdb65c",
   "metadata": {},
   "source": [
    "#### Firts, we need to compute thetune of a single FODO cell to get a machine tune of 46 in both planes"
   ]
  },
  {
   "cell_type": "code",
   "execution_count": 26,
   "id": "d4405772",
   "metadata": {
    "tags": []
   },
   "outputs": [],
   "source": [
    "Ncells=736/4 "
   ]
  },
  {
   "cell_type": "code",
   "execution_count": 27,
   "id": "fdab1947",
   "metadata": {
    "tags": []
   },
   "outputs": [
    {
     "data": {
      "text/plain": [
       "0.25"
      ]
     },
     "execution_count": 27,
     "metadata": {},
     "output_type": "execute_result"
    }
   ],
   "source": [
    "46/Ncells"
   ]
  },
  {
   "cell_type": "markdown",
   "id": "b2cef0ea-9e56-4358-a6ae-22ee37d56576",
   "metadata": {},
   "source": [
    "#### Now, we can define the MAD-X matching block as a python string to send the command to the MAD-X running process"
   ]
  },
  {
   "cell_type": "code",
   "execution_count": 28,
   "id": "40256b71-fe42-4c1b-a9b9-48bbc52e883f",
   "metadata": {
    "tags": []
   },
   "outputs": [],
   "source": [
    "myString='''\n",
    "\n",
    "! *********************************************************************\n",
    "! TWISS BEFORE MATCHING\n",
    "! *********************************************************************\n",
    "\n",
    "twiss, table=beforematching, file=\"BeforeMatching.txt\";\n",
    "\n",
    "! *********************************************************************\n",
    "! INITIAL TUNE VALUES\n",
    "! *********************************************************************\n",
    "\n",
    "value, table(summ,Q1)*(nBend/4);\n",
    "value, table(summ,Q2)*(nBend/4);\n",
    "\n",
    "! *********************************************************************\n",
    "! MATCHING\n",
    "! *********************************************************************\n",
    "\n",
    "phaseWantedX=46.0/(nBend/4);\n",
    "phaseWantedY=46.0/(nBend/4);\n",
    "\n",
    "MATCH, SEQUENCE=myCell;\n",
    "GLOBAL, Q1=phaseWantedX;//H-tune\n",
    "GLOBAL, Q2=phaseWantedY;//V-tune\n",
    "VARY, NAME= myKF, STEP=0.00001;\n",
    "VARY, NAME= myKD, STEP=0.00001;\n",
    "LMDIF, CALLS=50, TOLERANCE=1e-6;//method adopted\n",
    "ENDMATCH;\n",
    "\n",
    "! *********************************************************************\n",
    "! TWISS AFTER MATCHING\n",
    "! *********************************************************************\n",
    "\n",
    "twiss,table=aftermatching, file=\"AfterMatching.txt\";\n",
    "\n",
    "! *********************************************************************\n",
    "! FINAL TUNE VALUES\n",
    "! *********************************************************************\n",
    "\n",
    "value, table(summ,Q1)*(736/4);\n",
    "value, table(summ,Q2)*(736/4);\n",
    "\n",
    "'''"
   ]
  },
  {
   "cell_type": "code",
   "execution_count": 29,
   "id": "844171b5-2612-4d87-beee-d89998fc9f2b",
   "metadata": {
    "tags": []
   },
   "outputs": [
    {
     "name": "stdout",
     "output_type": "stream",
     "text": [
      "enter Twiss module\n",
      "  \n",
      "iteration:   1 error:   0.000000E+00 deltap:   0.000000E+00\n",
      "orbit:   0.000000E+00  0.000000E+00  0.000000E+00  0.000000E+00  0.000000E+00  0.000000E+00\n",
      "\n",
      "++++++ table: summ\n",
      "\n",
      "            length             orbit5               alfa            gammatr \n",
      "               100                 -0                  0                  0 \n",
      "\n",
      "                q1                dq1            betxmax              dxmax \n",
      "      0.2363728498      -0.3307573246        160.6036546                  0 \n",
      "\n",
      "             dxrms             xcomax             xcorms                 q2 \n",
      "                 0                  0                  0       0.2363728498 \n",
      "\n",
      "               dq2            betymax              dymax              dyrms \n",
      "     -0.3307573246        160.6036546                 -0                  0 \n",
      "\n",
      "            ycomax             ycorms             deltap            synch_1 \n",
      "                 0                  0                  0                  0 \n",
      "\n",
      "           synch_2            synch_3            synch_4            synch_5 \n",
      "                 0                  0                  0                  0 \n",
      "\n",
      "           synch_6            synch_8             nflips              dqmin \n",
      "                 0                  0                  0                  0 \n",
      "\n",
      "       dqmin_phase \n",
      "                 0 \n",
      "table( summ q1 )*(nbend/4) =        43.49260436 ;\n",
      "table( summ q2 )*(nbend/4) =        43.49260436 ;\n",
      "START MATCHING\n",
      "\n",
      "number of sequences: 1\n",
      "sequence name: mycell\n",
      "number of variables:    2\n",
      "user given constraints: 1\n",
      "total constraints:      2\n",
      "\n",
      "START LMDIF:\n",
      "\n",
      "Initial Penalty Function =   0.37139845E-01\n",
      "\n",
      "\n",
      "call:       4   Penalty function =   0.16036052E-04\n",
      "call:       7   Penalty function =   0.31723237E-11\n",
      " ++++++++++ LMDIF ended: converged successfully\n",
      "call:       7   Penalty function =   0.31723237E-11\n",
      "\n",
      "MATCH SUMMARY\n",
      "\n",
      "Node_Name                  Constraint   Type  Target Value       Final Value        Penalty\n",
      "--------------------------------------------------------------------------------------------------\n",
      "Global constraint:         q1           4     2.50000000E-01     2.50000125E-01     1.57067512E-12\n",
      "Global constraint:         q2           4     2.50000000E-01     2.50000127E-01     1.60164861E-12\n",
      "\n",
      "\n",
      "Final Penalty Function =   3.17232372e-12\n",
      "\n",
      "\n",
      "\n",
      "\n",
      "\n",
      "Variable                 Final Value  Initial Value Lower Limit  Upper Limit \n",
      "--------------------------------------------------------------------------------\n",
      "mykf                      5.85605e-03  5.60000e-03 -1.00000e+20  1.00000e+20\n",
      "mykd                     -5.85605e-03 -5.60000e-03 -1.00000e+20  1.00000e+20\n",
      "\n",
      "END MATCH SUMMARY\n",
      "\n",
      "VARIABLE \"TAR\" SET TO   3.17232372e-12\n",
      "enter Twiss module\n",
      "  \n",
      "iteration:   1 error:   0.000000E+00 deltap:   0.000000E+00\n",
      "orbit:   0.000000E+00  0.000000E+00  0.000000E+00  0.000000E+00  0.000000E+00  0.000000E+00\n",
      "\n",
      "++++++ table: summ\n",
      "\n",
      "            length             orbit5               alfa            gammatr \n",
      "               100                 -0                  0                  0 \n",
      "\n",
      "                q1                dq1            betxmax              dxmax \n",
      "      0.2500001253      -0.3603564318        162.6147709                  0 \n",
      "\n",
      "             dxrms             xcomax             xcorms                 q2 \n",
      "                 0                  0                  0       0.2500001266 \n",
      "\n",
      "               dq2            betymax              dymax              dyrms \n",
      "     -0.3603564331        162.6147706                 -0                  0 \n",
      "\n",
      "            ycomax             ycorms             deltap            synch_1 \n",
      "                 0                  0                  0                  0 \n",
      "\n",
      "           synch_2            synch_3            synch_4            synch_5 \n",
      "                 0                  0                  0                  0 \n",
      "\n",
      "           synch_6            synch_8             nflips              dqmin \n",
      "                 0                  0                  0                  0 \n",
      "\n",
      "       dqmin_phase \n",
      "                 0 \n",
      "table( summ q1 )*(736/4) =        46.00002306 ;\n",
      "table( summ q2 )*(736/4) =        46.00002329 ;\n"
     ]
    },
    {
     "data": {
      "text/plain": [
       "True"
      ]
     },
     "execution_count": 29,
     "metadata": {},
     "output_type": "execute_result"
    }
   ],
   "source": [
    "madx.input(myString)"
   ]
  },
  {
   "cell_type": "markdown",
   "id": "f15d3df3-d24d-43b8-a312-f1658b92ec23",
   "metadata": {},
   "source": [
    "#### Saving the content of the TWISS and SUMM table in two panda dataframes named as twiss_after_matching and summary_after_matching"
   ]
  },
  {
   "cell_type": "code",
   "execution_count": 30,
   "id": "3a6b818f",
   "metadata": {
    "tags": []
   },
   "outputs": [],
   "source": [
    "twiss_after_matching=madx.table['aftermatching'].dframe()\n",
    "summary_after_matching=madx.table['summ'].dframe()"
   ]
  },
  {
   "cell_type": "code",
   "execution_count": 31,
   "id": "9a733082",
   "metadata": {
    "tags": []
   },
   "outputs": [
    {
     "data": {
      "text/plain": [
       "#e    0.25\n",
       "Name: q1, dtype: float64"
      ]
     },
     "metadata": {},
     "output_type": "display_data"
    },
    {
     "data": {
      "text/plain": [
       "#e    0.25\n",
       "Name: q2, dtype: float64"
      ]
     },
     "metadata": {},
     "output_type": "display_data"
    }
   ],
   "source": [
    "display(summary_after_matching[\"q1\"])\n",
    "display(summary_after_matching[\"q2\"])"
   ]
  },
  {
   "cell_type": "markdown",
   "id": "5916d362-67ed-41bc-b9de-683e3f82d451",
   "metadata": {},
   "source": [
    "#### Selecting columns of interest"
   ]
  },
  {
   "cell_type": "code",
   "execution_count": 32,
   "id": "16f0a61e",
   "metadata": {
    "tags": []
   },
   "outputs": [
    {
     "data": {
      "text/html": [
       "<div>\n",
       "<style scoped>\n",
       "    .dataframe tbody tr th:only-of-type {\n",
       "        vertical-align: middle;\n",
       "    }\n",
       "\n",
       "    .dataframe tbody tr th {\n",
       "        vertical-align: top;\n",
       "    }\n",
       "\n",
       "    .dataframe thead th {\n",
       "        text-align: right;\n",
       "    }\n",
       "</style>\n",
       "<table border=\"1\" class=\"dataframe\">\n",
       "  <thead>\n",
       "    <tr style=\"text-align: right;\">\n",
       "      <th></th>\n",
       "      <th>name</th>\n",
       "      <th>keyword</th>\n",
       "      <th>s</th>\n",
       "      <th>x</th>\n",
       "      <th>y</th>\n",
       "      <th>px</th>\n",
       "      <th>py</th>\n",
       "      <th>betx</th>\n",
       "      <th>alfx</th>\n",
       "      <th>mux</th>\n",
       "      <th>bety</th>\n",
       "      <th>alfy</th>\n",
       "      <th>muy</th>\n",
       "      <th>dx</th>\n",
       "      <th>dy</th>\n",
       "      <th>dpx</th>\n",
       "      <th>dpy</th>\n",
       "    </tr>\n",
       "  </thead>\n",
       "  <tbody>\n",
       "    <tr>\n",
       "      <th>#s</th>\n",
       "      <td>mycell$start:1</td>\n",
       "      <td>marker</td>\n",
       "      <td>0.0</td>\n",
       "      <td>0.0</td>\n",
       "      <td>0.0</td>\n",
       "      <td>0.0</td>\n",
       "      <td>0.0</td>\n",
       "      <td>162.614771</td>\n",
       "      <td>-2.395171</td>\n",
       "      <td>0.000000</td>\n",
       "      <td>30.941573</td>\n",
       "      <td>0.530900</td>\n",
       "      <td>0.000000</td>\n",
       "      <td>0.0</td>\n",
       "      <td>-0.0</td>\n",
       "      <td>-0.0</td>\n",
       "      <td>-0.0</td>\n",
       "    </tr>\n",
       "    <tr>\n",
       "      <th>q1</th>\n",
       "      <td>q1:1</td>\n",
       "      <td>quadrupole</td>\n",
       "      <td>5.0</td>\n",
       "      <td>0.0</td>\n",
       "      <td>0.0</td>\n",
       "      <td>0.0</td>\n",
       "      <td>0.0</td>\n",
       "      <td>162.614771</td>\n",
       "      <td>2.395171</td>\n",
       "      <td>0.004776</td>\n",
       "      <td>30.941573</td>\n",
       "      <td>-0.530900</td>\n",
       "      <td>0.026473</td>\n",
       "      <td>0.0</td>\n",
       "      <td>0.0</td>\n",
       "      <td>0.0</td>\n",
       "      <td>0.0</td>\n",
       "    </tr>\n",
       "    <tr>\n",
       "      <th>drift_0[0]</th>\n",
       "      <td>drift_0:0</td>\n",
       "      <td>drift</td>\n",
       "      <td>10.0</td>\n",
       "      <td>0.0</td>\n",
       "      <td>0.0</td>\n",
       "      <td>0.0</td>\n",
       "      <td>0.0</td>\n",
       "      <td>139.698768</td>\n",
       "      <td>2.188030</td>\n",
       "      <td>0.010057</td>\n",
       "      <td>37.286280</td>\n",
       "      <td>-0.738041</td>\n",
       "      <td>0.049987</td>\n",
       "      <td>0.0</td>\n",
       "      <td>0.0</td>\n",
       "      <td>0.0</td>\n",
       "      <td>0.0</td>\n",
       "    </tr>\n",
       "    <tr>\n",
       "      <th>b1</th>\n",
       "      <td>b1:1</td>\n",
       "      <td>sbend</td>\n",
       "      <td>25.0</td>\n",
       "      <td>0.0</td>\n",
       "      <td>0.0</td>\n",
       "      <td>0.0</td>\n",
       "      <td>0.0</td>\n",
       "      <td>83.379230</td>\n",
       "      <td>1.566606</td>\n",
       "      <td>0.032248</td>\n",
       "      <td>68.748874</td>\n",
       "      <td>-1.359465</td>\n",
       "      <td>0.097858</td>\n",
       "      <td>0.0</td>\n",
       "      <td>0.0</td>\n",
       "      <td>0.0</td>\n",
       "      <td>0.0</td>\n",
       "    </tr>\n",
       "    <tr>\n",
       "      <th>drift_1[0]</th>\n",
       "      <td>drift_1:0</td>\n",
       "      <td>drift</td>\n",
       "      <td>30.0</td>\n",
       "      <td>0.0</td>\n",
       "      <td>0.0</td>\n",
       "      <td>0.0</td>\n",
       "      <td>0.0</td>\n",
       "      <td>68.748874</td>\n",
       "      <td>1.359465</td>\n",
       "      <td>0.042767</td>\n",
       "      <td>83.379229</td>\n",
       "      <td>-1.566606</td>\n",
       "      <td>0.108376</td>\n",
       "      <td>0.0</td>\n",
       "      <td>0.0</td>\n",
       "      <td>0.0</td>\n",
       "      <td>0.0</td>\n",
       "    </tr>\n",
       "    <tr>\n",
       "      <th>b2</th>\n",
       "      <td>b2:1</td>\n",
       "      <td>sbend</td>\n",
       "      <td>45.0</td>\n",
       "      <td>0.0</td>\n",
       "      <td>0.0</td>\n",
       "      <td>0.0</td>\n",
       "      <td>0.0</td>\n",
       "      <td>37.286281</td>\n",
       "      <td>0.738041</td>\n",
       "      <td>0.090638</td>\n",
       "      <td>139.698767</td>\n",
       "      <td>-2.188030</td>\n",
       "      <td>0.130568</td>\n",
       "      <td>0.0</td>\n",
       "      <td>0.0</td>\n",
       "      <td>0.0</td>\n",
       "      <td>0.0</td>\n",
       "    </tr>\n",
       "    <tr>\n",
       "      <th>drift_2[0]</th>\n",
       "      <td>drift_2:0</td>\n",
       "      <td>drift</td>\n",
       "      <td>50.0</td>\n",
       "      <td>0.0</td>\n",
       "      <td>0.0</td>\n",
       "      <td>0.0</td>\n",
       "      <td>0.0</td>\n",
       "      <td>30.941573</td>\n",
       "      <td>0.530900</td>\n",
       "      <td>0.114152</td>\n",
       "      <td>162.614771</td>\n",
       "      <td>-2.395171</td>\n",
       "      <td>0.135848</td>\n",
       "      <td>0.0</td>\n",
       "      <td>0.0</td>\n",
       "      <td>0.0</td>\n",
       "      <td>0.0</td>\n",
       "    </tr>\n",
       "    <tr>\n",
       "      <th>q2</th>\n",
       "      <td>q2:1</td>\n",
       "      <td>quadrupole</td>\n",
       "      <td>55.0</td>\n",
       "      <td>0.0</td>\n",
       "      <td>0.0</td>\n",
       "      <td>0.0</td>\n",
       "      <td>0.0</td>\n",
       "      <td>30.941573</td>\n",
       "      <td>-0.530900</td>\n",
       "      <td>0.140624</td>\n",
       "      <td>162.614771</td>\n",
       "      <td>2.395171</td>\n",
       "      <td>0.140624</td>\n",
       "      <td>0.0</td>\n",
       "      <td>0.0</td>\n",
       "      <td>0.0</td>\n",
       "      <td>0.0</td>\n",
       "    </tr>\n",
       "    <tr>\n",
       "      <th>drift_3[0]</th>\n",
       "      <td>drift_3:0</td>\n",
       "      <td>drift</td>\n",
       "      <td>60.0</td>\n",
       "      <td>0.0</td>\n",
       "      <td>0.0</td>\n",
       "      <td>0.0</td>\n",
       "      <td>0.0</td>\n",
       "      <td>37.286281</td>\n",
       "      <td>-0.738041</td>\n",
       "      <td>0.164138</td>\n",
       "      <td>139.698767</td>\n",
       "      <td>2.188030</td>\n",
       "      <td>0.145905</td>\n",
       "      <td>0.0</td>\n",
       "      <td>0.0</td>\n",
       "      <td>0.0</td>\n",
       "      <td>0.0</td>\n",
       "    </tr>\n",
       "    <tr>\n",
       "      <th>b3</th>\n",
       "      <td>b3:1</td>\n",
       "      <td>sbend</td>\n",
       "      <td>75.0</td>\n",
       "      <td>0.0</td>\n",
       "      <td>0.0</td>\n",
       "      <td>0.0</td>\n",
       "      <td>0.0</td>\n",
       "      <td>68.748874</td>\n",
       "      <td>-1.359465</td>\n",
       "      <td>0.212009</td>\n",
       "      <td>83.379229</td>\n",
       "      <td>1.566606</td>\n",
       "      <td>0.168097</td>\n",
       "      <td>0.0</td>\n",
       "      <td>0.0</td>\n",
       "      <td>0.0</td>\n",
       "      <td>0.0</td>\n",
       "    </tr>\n",
       "    <tr>\n",
       "      <th>drift_4[0]</th>\n",
       "      <td>drift_4:0</td>\n",
       "      <td>drift</td>\n",
       "      <td>80.0</td>\n",
       "      <td>0.0</td>\n",
       "      <td>0.0</td>\n",
       "      <td>0.0</td>\n",
       "      <td>0.0</td>\n",
       "      <td>83.379230</td>\n",
       "      <td>-1.566606</td>\n",
       "      <td>0.222528</td>\n",
       "      <td>68.748874</td>\n",
       "      <td>1.359465</td>\n",
       "      <td>0.178615</td>\n",
       "      <td>0.0</td>\n",
       "      <td>0.0</td>\n",
       "      <td>0.0</td>\n",
       "      <td>0.0</td>\n",
       "    </tr>\n",
       "    <tr>\n",
       "      <th>b4</th>\n",
       "      <td>b4:1</td>\n",
       "      <td>sbend</td>\n",
       "      <td>95.0</td>\n",
       "      <td>0.0</td>\n",
       "      <td>0.0</td>\n",
       "      <td>0.0</td>\n",
       "      <td>0.0</td>\n",
       "      <td>139.698768</td>\n",
       "      <td>-2.188030</td>\n",
       "      <td>0.244719</td>\n",
       "      <td>37.286280</td>\n",
       "      <td>0.738041</td>\n",
       "      <td>0.226486</td>\n",
       "      <td>0.0</td>\n",
       "      <td>0.0</td>\n",
       "      <td>0.0</td>\n",
       "      <td>0.0</td>\n",
       "    </tr>\n",
       "    <tr>\n",
       "      <th>drift_5[0]</th>\n",
       "      <td>drift_5:0</td>\n",
       "      <td>drift</td>\n",
       "      <td>100.0</td>\n",
       "      <td>0.0</td>\n",
       "      <td>0.0</td>\n",
       "      <td>0.0</td>\n",
       "      <td>0.0</td>\n",
       "      <td>162.614771</td>\n",
       "      <td>-2.395171</td>\n",
       "      <td>0.250000</td>\n",
       "      <td>30.941573</td>\n",
       "      <td>0.530900</td>\n",
       "      <td>0.250000</td>\n",
       "      <td>0.0</td>\n",
       "      <td>0.0</td>\n",
       "      <td>0.0</td>\n",
       "      <td>0.0</td>\n",
       "    </tr>\n",
       "    <tr>\n",
       "      <th>#e</th>\n",
       "      <td>mycell$end:1</td>\n",
       "      <td>marker</td>\n",
       "      <td>100.0</td>\n",
       "      <td>0.0</td>\n",
       "      <td>0.0</td>\n",
       "      <td>0.0</td>\n",
       "      <td>0.0</td>\n",
       "      <td>162.614771</td>\n",
       "      <td>-2.395171</td>\n",
       "      <td>0.250000</td>\n",
       "      <td>30.941573</td>\n",
       "      <td>0.530900</td>\n",
       "      <td>0.250000</td>\n",
       "      <td>0.0</td>\n",
       "      <td>0.0</td>\n",
       "      <td>0.0</td>\n",
       "      <td>0.0</td>\n",
       "    </tr>\n",
       "  </tbody>\n",
       "</table>\n",
       "</div>"
      ],
      "text/plain": [
       "                      name     keyword      s    x    y   px   py        betx  \\\n",
       "#s          mycell$start:1      marker    0.0  0.0  0.0  0.0  0.0  162.614771   \n",
       "q1                    q1:1  quadrupole    5.0  0.0  0.0  0.0  0.0  162.614771   \n",
       "drift_0[0]       drift_0:0       drift   10.0  0.0  0.0  0.0  0.0  139.698768   \n",
       "b1                    b1:1       sbend   25.0  0.0  0.0  0.0  0.0   83.379230   \n",
       "drift_1[0]       drift_1:0       drift   30.0  0.0  0.0  0.0  0.0   68.748874   \n",
       "b2                    b2:1       sbend   45.0  0.0  0.0  0.0  0.0   37.286281   \n",
       "drift_2[0]       drift_2:0       drift   50.0  0.0  0.0  0.0  0.0   30.941573   \n",
       "q2                    q2:1  quadrupole   55.0  0.0  0.0  0.0  0.0   30.941573   \n",
       "drift_3[0]       drift_3:0       drift   60.0  0.0  0.0  0.0  0.0   37.286281   \n",
       "b3                    b3:1       sbend   75.0  0.0  0.0  0.0  0.0   68.748874   \n",
       "drift_4[0]       drift_4:0       drift   80.0  0.0  0.0  0.0  0.0   83.379230   \n",
       "b4                    b4:1       sbend   95.0  0.0  0.0  0.0  0.0  139.698768   \n",
       "drift_5[0]       drift_5:0       drift  100.0  0.0  0.0  0.0  0.0  162.614771   \n",
       "#e            mycell$end:1      marker  100.0  0.0  0.0  0.0  0.0  162.614771   \n",
       "\n",
       "                alfx       mux        bety      alfy       muy   dx   dy  dpx  \\\n",
       "#s         -2.395171  0.000000   30.941573  0.530900  0.000000  0.0 -0.0 -0.0   \n",
       "q1          2.395171  0.004776   30.941573 -0.530900  0.026473  0.0  0.0  0.0   \n",
       "drift_0[0]  2.188030  0.010057   37.286280 -0.738041  0.049987  0.0  0.0  0.0   \n",
       "b1          1.566606  0.032248   68.748874 -1.359465  0.097858  0.0  0.0  0.0   \n",
       "drift_1[0]  1.359465  0.042767   83.379229 -1.566606  0.108376  0.0  0.0  0.0   \n",
       "b2          0.738041  0.090638  139.698767 -2.188030  0.130568  0.0  0.0  0.0   \n",
       "drift_2[0]  0.530900  0.114152  162.614771 -2.395171  0.135848  0.0  0.0  0.0   \n",
       "q2         -0.530900  0.140624  162.614771  2.395171  0.140624  0.0  0.0  0.0   \n",
       "drift_3[0] -0.738041  0.164138  139.698767  2.188030  0.145905  0.0  0.0  0.0   \n",
       "b3         -1.359465  0.212009   83.379229  1.566606  0.168097  0.0  0.0  0.0   \n",
       "drift_4[0] -1.566606  0.222528   68.748874  1.359465  0.178615  0.0  0.0  0.0   \n",
       "b4         -2.188030  0.244719   37.286280  0.738041  0.226486  0.0  0.0  0.0   \n",
       "drift_5[0] -2.395171  0.250000   30.941573  0.530900  0.250000  0.0  0.0  0.0   \n",
       "#e         -2.395171  0.250000   30.941573  0.530900  0.250000  0.0  0.0  0.0   \n",
       "\n",
       "            dpy  \n",
       "#s         -0.0  \n",
       "q1          0.0  \n",
       "drift_0[0]  0.0  \n",
       "b1          0.0  \n",
       "drift_1[0]  0.0  \n",
       "b2          0.0  \n",
       "drift_2[0]  0.0  \n",
       "q2          0.0  \n",
       "drift_3[0]  0.0  \n",
       "b3          0.0  \n",
       "drift_4[0]  0.0  \n",
       "b4          0.0  \n",
       "drift_5[0]  0.0  \n",
       "#e          0.0  "
      ]
     },
     "execution_count": 32,
     "metadata": {},
     "output_type": "execute_result"
    }
   ],
   "source": [
    "twiss_after_matching[['name', 'keyword', 's','x','y','px','py','betx', 'alfx', 'mux', \n",
    "                      'bety', 'alfy', 'muy','dx','dy','dpx','dpy']]"
   ]
  },
  {
   "cell_type": "markdown",
   "id": "52468e34",
   "metadata": {},
   "source": [
    "#### 5. If we change the beam energy to a total beam energy of 7 TeV, which are the new tunes of the machine? Why?"
   ]
  },
  {
   "cell_type": "code",
   "execution_count": 33,
   "id": "b97df552",
   "metadata": {
    "tags": []
   },
   "outputs": [],
   "source": [
    "myString='''\n",
    "\n",
    "! *********************************************************************\n",
    "! Definition of beam\n",
    "! *********************************************************************\n",
    "\n",
    "beam, particle=proton, energy=7000;\n",
    "\n",
    "! *********************************************************************\n",
    "! TWISS\n",
    "! *********************************************************************\n",
    "twiss, sequence=myCell;\n",
    "\n",
    "'''"
   ]
  },
  {
   "cell_type": "code",
   "execution_count": 34,
   "id": "2384cc2f-9383-4f6c-93b4-e5ebccd7f67c",
   "metadata": {
    "tags": []
   },
   "outputs": [
    {
     "name": "stdout",
     "output_type": "stream",
     "text": [
      "enter Twiss module\n",
      "  \n",
      "iteration:   1 error:   0.000000E+00 deltap:   0.000000E+00\n",
      "orbit:   0.000000E+00  0.000000E+00  0.000000E+00  0.000000E+00  0.000000E+00  0.000000E+00\n",
      "\n",
      "++++++ table: summ\n",
      "\n",
      "            length             orbit5               alfa            gammatr \n",
      "               100                 -0                  0                  0 \n",
      "\n",
      "                q1                dq1            betxmax              dxmax \n",
      "      0.2500001253      -0.3182401044        162.6147709                  0 \n",
      "\n",
      "             dxrms             xcomax             xcorms                 q2 \n",
      "                 0                  0                  0       0.2500001266 \n",
      "\n",
      "               dq2            betymax              dymax              dyrms \n",
      "     -0.3182401056        162.6147706                 -0                  0 \n",
      "\n",
      "            ycomax             ycorms             deltap            synch_1 \n",
      "                 0                  0                  0                  0 \n",
      "\n",
      "           synch_2            synch_3            synch_4            synch_5 \n",
      "                 0                  0                  0                  0 \n",
      "\n",
      "           synch_6            synch_8             nflips              dqmin \n",
      "                 0                  0                  0                  0 \n",
      "\n",
      "       dqmin_phase \n",
      "                 0 \n"
     ]
    }
   ],
   "source": [
    "madx.input(myString);"
   ]
  },
  {
   "cell_type": "markdown",
   "id": "b287b5d9-9b7a-4f0c-b44b-c22de91cbf10",
   "metadata": {},
   "source": [
    "#### Saving the content of the TWISS and SUMM table in two panda dataframes names as twiss_after_matching_7TeV and summary_after_matching_7TeV"
   ]
  },
  {
   "cell_type": "code",
   "execution_count": 35,
   "id": "9358f6c3",
   "metadata": {
    "tags": []
   },
   "outputs": [],
   "source": [
    "twiss_after_matching_7TeV=madx.table['twiss'].dframe()\n",
    "summary_after_matching_7TeV=madx.table['summ'].dframe()"
   ]
  },
  {
   "cell_type": "code",
   "execution_count": 36,
   "id": "a0c58952",
   "metadata": {
    "scrolled": true,
    "tags": []
   },
   "outputs": [
    {
     "data": {
      "text/html": [
       "<div>\n",
       "<style scoped>\n",
       "    .dataframe tbody tr th:only-of-type {\n",
       "        vertical-align: middle;\n",
       "    }\n",
       "\n",
       "    .dataframe tbody tr th {\n",
       "        vertical-align: top;\n",
       "    }\n",
       "\n",
       "    .dataframe thead th {\n",
       "        text-align: right;\n",
       "    }\n",
       "</style>\n",
       "<table border=\"1\" class=\"dataframe\">\n",
       "  <thead>\n",
       "    <tr style=\"text-align: right;\">\n",
       "      <th></th>\n",
       "      <th>name</th>\n",
       "      <th>keyword</th>\n",
       "      <th>s</th>\n",
       "      <th>x</th>\n",
       "      <th>y</th>\n",
       "      <th>px</th>\n",
       "      <th>py</th>\n",
       "      <th>betx</th>\n",
       "      <th>alfx</th>\n",
       "      <th>mux</th>\n",
       "      <th>bety</th>\n",
       "      <th>alfy</th>\n",
       "      <th>muy</th>\n",
       "      <th>dx</th>\n",
       "      <th>dy</th>\n",
       "      <th>dpx</th>\n",
       "      <th>dpy</th>\n",
       "    </tr>\n",
       "  </thead>\n",
       "  <tbody>\n",
       "    <tr>\n",
       "      <th>#s</th>\n",
       "      <td>mycell$start:1</td>\n",
       "      <td>marker</td>\n",
       "      <td>0.0</td>\n",
       "      <td>0.0</td>\n",
       "      <td>0.0</td>\n",
       "      <td>0.0</td>\n",
       "      <td>0.0</td>\n",
       "      <td>162.614771</td>\n",
       "      <td>-2.395171</td>\n",
       "      <td>0.000000</td>\n",
       "      <td>30.941573</td>\n",
       "      <td>0.530900</td>\n",
       "      <td>0.000000</td>\n",
       "      <td>0.0</td>\n",
       "      <td>-0.0</td>\n",
       "      <td>-0.0</td>\n",
       "      <td>-0.0</td>\n",
       "    </tr>\n",
       "    <tr>\n",
       "      <th>q1</th>\n",
       "      <td>q1:1</td>\n",
       "      <td>quadrupole</td>\n",
       "      <td>5.0</td>\n",
       "      <td>0.0</td>\n",
       "      <td>0.0</td>\n",
       "      <td>0.0</td>\n",
       "      <td>0.0</td>\n",
       "      <td>162.614771</td>\n",
       "      <td>2.395171</td>\n",
       "      <td>0.004776</td>\n",
       "      <td>30.941573</td>\n",
       "      <td>-0.530900</td>\n",
       "      <td>0.026473</td>\n",
       "      <td>0.0</td>\n",
       "      <td>0.0</td>\n",
       "      <td>0.0</td>\n",
       "      <td>0.0</td>\n",
       "    </tr>\n",
       "    <tr>\n",
       "      <th>drift_0[0]</th>\n",
       "      <td>drift_0:0</td>\n",
       "      <td>drift</td>\n",
       "      <td>10.0</td>\n",
       "      <td>0.0</td>\n",
       "      <td>0.0</td>\n",
       "      <td>0.0</td>\n",
       "      <td>0.0</td>\n",
       "      <td>139.698768</td>\n",
       "      <td>2.188030</td>\n",
       "      <td>0.010057</td>\n",
       "      <td>37.286280</td>\n",
       "      <td>-0.738041</td>\n",
       "      <td>0.049987</td>\n",
       "      <td>0.0</td>\n",
       "      <td>0.0</td>\n",
       "      <td>0.0</td>\n",
       "      <td>0.0</td>\n",
       "    </tr>\n",
       "    <tr>\n",
       "      <th>b1</th>\n",
       "      <td>b1:1</td>\n",
       "      <td>sbend</td>\n",
       "      <td>25.0</td>\n",
       "      <td>0.0</td>\n",
       "      <td>0.0</td>\n",
       "      <td>0.0</td>\n",
       "      <td>0.0</td>\n",
       "      <td>83.379230</td>\n",
       "      <td>1.566606</td>\n",
       "      <td>0.032248</td>\n",
       "      <td>68.748874</td>\n",
       "      <td>-1.359465</td>\n",
       "      <td>0.097858</td>\n",
       "      <td>0.0</td>\n",
       "      <td>0.0</td>\n",
       "      <td>0.0</td>\n",
       "      <td>0.0</td>\n",
       "    </tr>\n",
       "    <tr>\n",
       "      <th>drift_1[0]</th>\n",
       "      <td>drift_1:0</td>\n",
       "      <td>drift</td>\n",
       "      <td>30.0</td>\n",
       "      <td>0.0</td>\n",
       "      <td>0.0</td>\n",
       "      <td>0.0</td>\n",
       "      <td>0.0</td>\n",
       "      <td>68.748874</td>\n",
       "      <td>1.359465</td>\n",
       "      <td>0.042767</td>\n",
       "      <td>83.379229</td>\n",
       "      <td>-1.566606</td>\n",
       "      <td>0.108376</td>\n",
       "      <td>0.0</td>\n",
       "      <td>0.0</td>\n",
       "      <td>0.0</td>\n",
       "      <td>0.0</td>\n",
       "    </tr>\n",
       "    <tr>\n",
       "      <th>b2</th>\n",
       "      <td>b2:1</td>\n",
       "      <td>sbend</td>\n",
       "      <td>45.0</td>\n",
       "      <td>0.0</td>\n",
       "      <td>0.0</td>\n",
       "      <td>0.0</td>\n",
       "      <td>0.0</td>\n",
       "      <td>37.286281</td>\n",
       "      <td>0.738041</td>\n",
       "      <td>0.090638</td>\n",
       "      <td>139.698767</td>\n",
       "      <td>-2.188030</td>\n",
       "      <td>0.130568</td>\n",
       "      <td>0.0</td>\n",
       "      <td>0.0</td>\n",
       "      <td>0.0</td>\n",
       "      <td>0.0</td>\n",
       "    </tr>\n",
       "    <tr>\n",
       "      <th>drift_2[0]</th>\n",
       "      <td>drift_2:0</td>\n",
       "      <td>drift</td>\n",
       "      <td>50.0</td>\n",
       "      <td>0.0</td>\n",
       "      <td>0.0</td>\n",
       "      <td>0.0</td>\n",
       "      <td>0.0</td>\n",
       "      <td>30.941573</td>\n",
       "      <td>0.530900</td>\n",
       "      <td>0.114152</td>\n",
       "      <td>162.614771</td>\n",
       "      <td>-2.395171</td>\n",
       "      <td>0.135848</td>\n",
       "      <td>0.0</td>\n",
       "      <td>0.0</td>\n",
       "      <td>0.0</td>\n",
       "      <td>0.0</td>\n",
       "    </tr>\n",
       "    <tr>\n",
       "      <th>q2</th>\n",
       "      <td>q2:1</td>\n",
       "      <td>quadrupole</td>\n",
       "      <td>55.0</td>\n",
       "      <td>0.0</td>\n",
       "      <td>0.0</td>\n",
       "      <td>0.0</td>\n",
       "      <td>0.0</td>\n",
       "      <td>30.941573</td>\n",
       "      <td>-0.530900</td>\n",
       "      <td>0.140624</td>\n",
       "      <td>162.614771</td>\n",
       "      <td>2.395171</td>\n",
       "      <td>0.140624</td>\n",
       "      <td>0.0</td>\n",
       "      <td>0.0</td>\n",
       "      <td>0.0</td>\n",
       "      <td>0.0</td>\n",
       "    </tr>\n",
       "    <tr>\n",
       "      <th>drift_3[0]</th>\n",
       "      <td>drift_3:0</td>\n",
       "      <td>drift</td>\n",
       "      <td>60.0</td>\n",
       "      <td>0.0</td>\n",
       "      <td>0.0</td>\n",
       "      <td>0.0</td>\n",
       "      <td>0.0</td>\n",
       "      <td>37.286281</td>\n",
       "      <td>-0.738041</td>\n",
       "      <td>0.164138</td>\n",
       "      <td>139.698767</td>\n",
       "      <td>2.188030</td>\n",
       "      <td>0.145905</td>\n",
       "      <td>0.0</td>\n",
       "      <td>0.0</td>\n",
       "      <td>0.0</td>\n",
       "      <td>0.0</td>\n",
       "    </tr>\n",
       "    <tr>\n",
       "      <th>b3</th>\n",
       "      <td>b3:1</td>\n",
       "      <td>sbend</td>\n",
       "      <td>75.0</td>\n",
       "      <td>0.0</td>\n",
       "      <td>0.0</td>\n",
       "      <td>0.0</td>\n",
       "      <td>0.0</td>\n",
       "      <td>68.748874</td>\n",
       "      <td>-1.359465</td>\n",
       "      <td>0.212009</td>\n",
       "      <td>83.379229</td>\n",
       "      <td>1.566606</td>\n",
       "      <td>0.168097</td>\n",
       "      <td>0.0</td>\n",
       "      <td>0.0</td>\n",
       "      <td>0.0</td>\n",
       "      <td>0.0</td>\n",
       "    </tr>\n",
       "    <tr>\n",
       "      <th>drift_4[0]</th>\n",
       "      <td>drift_4:0</td>\n",
       "      <td>drift</td>\n",
       "      <td>80.0</td>\n",
       "      <td>0.0</td>\n",
       "      <td>0.0</td>\n",
       "      <td>0.0</td>\n",
       "      <td>0.0</td>\n",
       "      <td>83.379230</td>\n",
       "      <td>-1.566606</td>\n",
       "      <td>0.222528</td>\n",
       "      <td>68.748874</td>\n",
       "      <td>1.359465</td>\n",
       "      <td>0.178615</td>\n",
       "      <td>0.0</td>\n",
       "      <td>0.0</td>\n",
       "      <td>0.0</td>\n",
       "      <td>0.0</td>\n",
       "    </tr>\n",
       "    <tr>\n",
       "      <th>b4</th>\n",
       "      <td>b4:1</td>\n",
       "      <td>sbend</td>\n",
       "      <td>95.0</td>\n",
       "      <td>0.0</td>\n",
       "      <td>0.0</td>\n",
       "      <td>0.0</td>\n",
       "      <td>0.0</td>\n",
       "      <td>139.698768</td>\n",
       "      <td>-2.188030</td>\n",
       "      <td>0.244719</td>\n",
       "      <td>37.286280</td>\n",
       "      <td>0.738041</td>\n",
       "      <td>0.226486</td>\n",
       "      <td>0.0</td>\n",
       "      <td>0.0</td>\n",
       "      <td>0.0</td>\n",
       "      <td>0.0</td>\n",
       "    </tr>\n",
       "    <tr>\n",
       "      <th>drift_5[0]</th>\n",
       "      <td>drift_5:0</td>\n",
       "      <td>drift</td>\n",
       "      <td>100.0</td>\n",
       "      <td>0.0</td>\n",
       "      <td>0.0</td>\n",
       "      <td>0.0</td>\n",
       "      <td>0.0</td>\n",
       "      <td>162.614771</td>\n",
       "      <td>-2.395171</td>\n",
       "      <td>0.250000</td>\n",
       "      <td>30.941573</td>\n",
       "      <td>0.530900</td>\n",
       "      <td>0.250000</td>\n",
       "      <td>0.0</td>\n",
       "      <td>0.0</td>\n",
       "      <td>0.0</td>\n",
       "      <td>0.0</td>\n",
       "    </tr>\n",
       "    <tr>\n",
       "      <th>#e</th>\n",
       "      <td>mycell$end:1</td>\n",
       "      <td>marker</td>\n",
       "      <td>100.0</td>\n",
       "      <td>0.0</td>\n",
       "      <td>0.0</td>\n",
       "      <td>0.0</td>\n",
       "      <td>0.0</td>\n",
       "      <td>162.614771</td>\n",
       "      <td>-2.395171</td>\n",
       "      <td>0.250000</td>\n",
       "      <td>30.941573</td>\n",
       "      <td>0.530900</td>\n",
       "      <td>0.250000</td>\n",
       "      <td>0.0</td>\n",
       "      <td>0.0</td>\n",
       "      <td>0.0</td>\n",
       "      <td>0.0</td>\n",
       "    </tr>\n",
       "  </tbody>\n",
       "</table>\n",
       "</div>"
      ],
      "text/plain": [
       "                      name     keyword      s    x    y   px   py        betx  \\\n",
       "#s          mycell$start:1      marker    0.0  0.0  0.0  0.0  0.0  162.614771   \n",
       "q1                    q1:1  quadrupole    5.0  0.0  0.0  0.0  0.0  162.614771   \n",
       "drift_0[0]       drift_0:0       drift   10.0  0.0  0.0  0.0  0.0  139.698768   \n",
       "b1                    b1:1       sbend   25.0  0.0  0.0  0.0  0.0   83.379230   \n",
       "drift_1[0]       drift_1:0       drift   30.0  0.0  0.0  0.0  0.0   68.748874   \n",
       "b2                    b2:1       sbend   45.0  0.0  0.0  0.0  0.0   37.286281   \n",
       "drift_2[0]       drift_2:0       drift   50.0  0.0  0.0  0.0  0.0   30.941573   \n",
       "q2                    q2:1  quadrupole   55.0  0.0  0.0  0.0  0.0   30.941573   \n",
       "drift_3[0]       drift_3:0       drift   60.0  0.0  0.0  0.0  0.0   37.286281   \n",
       "b3                    b3:1       sbend   75.0  0.0  0.0  0.0  0.0   68.748874   \n",
       "drift_4[0]       drift_4:0       drift   80.0  0.0  0.0  0.0  0.0   83.379230   \n",
       "b4                    b4:1       sbend   95.0  0.0  0.0  0.0  0.0  139.698768   \n",
       "drift_5[0]       drift_5:0       drift  100.0  0.0  0.0  0.0  0.0  162.614771   \n",
       "#e            mycell$end:1      marker  100.0  0.0  0.0  0.0  0.0  162.614771   \n",
       "\n",
       "                alfx       mux        bety      alfy       muy   dx   dy  dpx  \\\n",
       "#s         -2.395171  0.000000   30.941573  0.530900  0.000000  0.0 -0.0 -0.0   \n",
       "q1          2.395171  0.004776   30.941573 -0.530900  0.026473  0.0  0.0  0.0   \n",
       "drift_0[0]  2.188030  0.010057   37.286280 -0.738041  0.049987  0.0  0.0  0.0   \n",
       "b1          1.566606  0.032248   68.748874 -1.359465  0.097858  0.0  0.0  0.0   \n",
       "drift_1[0]  1.359465  0.042767   83.379229 -1.566606  0.108376  0.0  0.0  0.0   \n",
       "b2          0.738041  0.090638  139.698767 -2.188030  0.130568  0.0  0.0  0.0   \n",
       "drift_2[0]  0.530900  0.114152  162.614771 -2.395171  0.135848  0.0  0.0  0.0   \n",
       "q2         -0.530900  0.140624  162.614771  2.395171  0.140624  0.0  0.0  0.0   \n",
       "drift_3[0] -0.738041  0.164138  139.698767  2.188030  0.145905  0.0  0.0  0.0   \n",
       "b3         -1.359465  0.212009   83.379229  1.566606  0.168097  0.0  0.0  0.0   \n",
       "drift_4[0] -1.566606  0.222528   68.748874  1.359465  0.178615  0.0  0.0  0.0   \n",
       "b4         -2.188030  0.244719   37.286280  0.738041  0.226486  0.0  0.0  0.0   \n",
       "drift_5[0] -2.395171  0.250000   30.941573  0.530900  0.250000  0.0  0.0  0.0   \n",
       "#e         -2.395171  0.250000   30.941573  0.530900  0.250000  0.0  0.0  0.0   \n",
       "\n",
       "            dpy  \n",
       "#s         -0.0  \n",
       "q1          0.0  \n",
       "drift_0[0]  0.0  \n",
       "b1          0.0  \n",
       "drift_1[0]  0.0  \n",
       "b2          0.0  \n",
       "drift_2[0]  0.0  \n",
       "q2          0.0  \n",
       "drift_3[0]  0.0  \n",
       "b3          0.0  \n",
       "drift_4[0]  0.0  \n",
       "b4          0.0  \n",
       "drift_5[0]  0.0  \n",
       "#e          0.0  "
      ]
     },
     "execution_count": 36,
     "metadata": {},
     "output_type": "execute_result"
    }
   ],
   "source": [
    "twiss_after_matching_7TeV[['name', 'keyword', 's','x','y','px','py','betx', 'alfx', 'mux', \n",
    "                           'bety', 'alfy', 'muy','dx','dy','dpx','dpy']]"
   ]
  },
  {
   "cell_type": "markdown",
   "id": "a9392bbf-b325-4054-9e0b-ff294983b10f",
   "metadata": {},
   "source": [
    "#### Machine tunes at 2 GeV after the matching"
   ]
  },
  {
   "cell_type": "code",
   "execution_count": 37,
   "id": "9c5aef77",
   "metadata": {
    "tags": []
   },
   "outputs": [
    {
     "data": {
      "text/plain": [
       "46.00002306009036"
      ]
     },
     "metadata": {},
     "output_type": "display_data"
    },
    {
     "data": {
      "text/plain": [
       "46.000023286351194"
      ]
     },
     "metadata": {},
     "output_type": "display_data"
    }
   ],
   "source": [
    "display(Ncells*twiss_after_matching['mux'].max())\n",
    "display(Ncells*twiss_after_matching['muy'].max())"
   ]
  },
  {
   "cell_type": "markdown",
   "id": "c4c82701-8207-461a-8cba-a40fef29dbb1",
   "metadata": {},
   "source": [
    "#### Machine tunes at 7000 GeV after the matching"
   ]
  },
  {
   "cell_type": "code",
   "execution_count": 38,
   "id": "b368b23a",
   "metadata": {
    "tags": []
   },
   "outputs": [
    {
     "data": {
      "text/plain": [
       "46.00002306009036"
      ]
     },
     "metadata": {},
     "output_type": "display_data"
    },
    {
     "data": {
      "text/plain": [
       "46.000023286351194"
      ]
     },
     "metadata": {},
     "output_type": "display_data"
    }
   ],
   "source": [
    "display(Ncells*twiss_after_matching_7TeV['mux'].max())\n",
    "display(Ncells*twiss_after_matching_7TeV['muy'].max())"
   ]
  },
  {
   "cell_type": "markdown",
   "id": "843e8aec",
   "metadata": {},
   "source": [
    "#### **Conclusion**: since the K1 is normalized to the beam rigidity, the beam energy has no impact on the beta fuctions and on the phase advance, therefore the tunes are the same.\n",
    "\n",
    "#### However, watch out the definition of the chromaticity (DQ1 and DQ2) and all the momentum derivative quantities in MAD-X which are normalised to the beta relativistic factor. For such variables the energy definition will have an impact on the computed values by MAD-X."
   ]
  },
  {
   "attachments": {
    "chromaticity.jpg": {
     "image/jpeg": "[encoded data removed]"
    }
   },
   "cell_type": "markdown",
   "id": "6d4e46ee",
   "metadata": {},
   "source": [
    "#### **Rememeber the concept of chromaticity**\n",
    "\n",
    "<div>\n",
    "<img src=\"attachment:chromaticity.jpg\" width=\"400\"/>\n",
    "</div>"
   ]
  },
  {
   "cell_type": "markdown",
   "id": "69f26f1d-6997-442d-b529-48399fd9f26d",
   "metadata": {},
   "source": [
    "#### Machine chromaticity at 2 GeV"
   ]
  },
  {
   "cell_type": "code",
   "execution_count": 39,
   "id": "a13f6360",
   "metadata": {
    "tags": []
   },
   "outputs": [
    {
     "data": {
      "text/plain": [
       "dq1   -0.360356\n",
       "dq2   -0.360356\n",
       "Name: #e, dtype: float64"
      ]
     },
     "metadata": {},
     "output_type": "display_data"
    }
   ],
   "source": [
    "display(summary_after_matching.iloc[0][['dq1','dq2']])"
   ]
  },
  {
   "cell_type": "markdown",
   "id": "f853a16b-8036-4754-a4c5-0ce5399c2451",
   "metadata": {},
   "source": [
    "#### Machine chromaticity at 7000 GeV"
   ]
  },
  {
   "cell_type": "code",
   "execution_count": 40,
   "id": "7fa46a9e",
   "metadata": {
    "tags": []
   },
   "outputs": [
    {
     "data": {
      "text/plain": [
       "dq1   -0.31824\n",
       "dq2   -0.31824\n",
       "Name: #e, dtype: float64"
      ]
     },
     "metadata": {},
     "output_type": "display_data"
    }
   ],
   "source": [
    "display(summary_after_matching_7TeV.iloc[0][['dq1','dq2']])"
   ]
  },
  {
   "cell_type": "markdown",
   "id": "ab890ec7-55d6-4a47-870a-f1076c8283e1",
   "metadata": {},
   "source": [
    "#### Whatch out the importance of the relativistic beta factor for the chromaticity!"
   ]
  },
  {
   "cell_type": "code",
   "execution_count": 41,
   "id": "1852d805",
   "metadata": {
    "tags": []
   },
   "outputs": [
    {
     "name": "stdout",
     "output_type": "stream",
     "text": [
      "Relativistic factor beta for 2 GeV\n",
      "0.8831259095649772\n"
     ]
    },
    {
     "data": {
      "text/plain": [
       "dq1   -0.31824\n",
       "dq2   -0.31824\n",
       "Name: #e, dtype: float64"
      ]
     },
     "metadata": {},
     "output_type": "display_data"
    },
    {
     "name": "stdout",
     "output_type": "stream",
     "text": [
      "Relativistic factor beta for 7000 GeV\n",
      "0.9999999910167907\n"
     ]
    },
    {
     "data": {
      "text/plain": [
       "dq1   -0.31824\n",
       "dq2   -0.31824\n",
       "Name: #e, dtype: float64"
      ]
     },
     "metadata": {},
     "output_type": "display_data"
    }
   ],
   "source": [
    "beta_r3=np.sqrt(1-(2/madx.globals['pmass'])**(-2))\n",
    "print(\"Relativistic factor beta for 2 GeV\")\n",
    "print(beta_r3)\n",
    "display(summary_after_matching.iloc[0][['dq1','dq2']]*beta_r3)\n",
    "\n",
    "beta_r1=np.sqrt(1-(7000/madx.globals['pmass'])**(-2))\n",
    "print(\"Relativistic factor beta for 7000 GeV\")\n",
    "print(beta_r1)\n",
    "display(summary_after_matching_7TeV.iloc[0][['dq1','dq2']]*beta_r1)"
   ]
  },
  {
   "cell_type": "markdown",
   "id": "08a39417",
   "metadata": {},
   "source": [
    "#### In MAD-X the chromaticity and second momentum derivatives are normalized by the relativistic factor $\\beta$ in order to make possible the computation of transport maps accounting for second order aberrations. To obtain the values from textbooks one needs to multiply the MAD-X values by the the relativistic factor $\\beta$"
   ]
  },
  {
   "cell_type": "markdown",
   "id": "030f5e42",
   "metadata": {},
   "source": [
    "#### 6. What is the maximum tune that you can reach with such a lattice? HINT: what is the maximum phase advance per FODO cell in the thin lens approximation?"
   ]
  },
  {
   "cell_type": "markdown",
   "id": "bb2b8d55",
   "metadata": {},
   "source": [
    "#### The maximum phase advance for a FODO cell is 180 degrees (rememeber Figure 1 from Tutorial 2). In units of 2$\\pi$ this corresponds to 0.5 and then, the maximum tune of the full machine will be:"
   ]
  },
  {
   "cell_type": "code",
   "execution_count": 42,
   "id": "3172109f",
   "metadata": {
    "tags": []
   },
   "outputs": [
    {
     "data": {
      "text/plain": [
       "92.0"
      ]
     },
     "execution_count": 42,
     "metadata": {},
     "output_type": "execute_result"
    }
   ],
   "source": [
    "Ncells*.5"
   ]
  }
 ],
 "metadata": {
  "kernelspec": {
   "display_name": "Python 3 (ipykernel)",
   "language": "python",
   "name": "python3"
  },
  "language_info": {
   "codemirror_mode": {
    "name": "ipython",
    "version": 3
   },
   "file_extension": ".py",
   "mimetype": "text/x-python",
   "name": "python",
   "nbconvert_exporter": "python",
   "pygments_lexer": "ipython3",
   "version": "3.11.5"
  }
 },
 "nbformat": 4,
 "nbformat_minor": 5
}
