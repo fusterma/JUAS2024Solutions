{
 "cells": [
  {
   "cell_type": "markdown",
   "id": "8a9ccda8-963d-47e3-84bd-411e46ab3656",
   "metadata": {},
   "source": [
    "# Tutorial 4: Natural chromaticity"
   ]
  },
  {
   "cell_type": "markdown",
   "id": "0894bd31-1278-40b4-89d6-e98e77a2f466",
   "metadata": {},
   "source": [
    "# Python libraries "
   ]
  },
  {
   "cell_type": "code",
   "execution_count": 1,
   "id": "437815eb-18b4-4136-83f0-df11c015fbb4",
   "metadata": {
    "tags": []
   },
   "outputs": [],
   "source": [
    "#########################################\n",
    "# Python libraries                      #\n",
    "#########################################\n",
    "from matplotlib import pyplot as plt\n",
    "import numpy as np\n",
    "import pandas as pd\n",
    "\n",
    "#########################################\n",
    "# Cpymad library                        #\n",
    "#########################################\n",
    "from cpymad.madx import Madx "
   ]
  },
  {
   "cell_type": "markdown",
   "id": "9fc82274-8280-4475-a315-e773006eb431",
   "metadata": {},
   "source": [
    "# Launching MAD-X"
   ]
  },
  {
   "cell_type": "code",
   "execution_count": 2,
   "id": "71df23d9-f388-4eeb-83ed-4b5dac9eac3c",
   "metadata": {
    "tags": []
   },
   "outputs": [
    {
     "name": "stdout",
     "output_type": "stream",
     "text": [
      "\n",
      "  ++++++++++++++++++++++++++++++++++++++++++++\n",
      "  +     MAD-X 5.09.00  (64 bit, Darwin)      +\n",
      "  + Support: mad@cern.ch, http://cern.ch/mad +\n",
      "  + Release   date: 2023.05.05               +\n",
      "  + Execution date: 2024.01.03 11:45:17      +\n",
      "  ++++++++++++++++++++++++++++++++++++++++++++\n"
     ]
    }
   ],
   "source": [
    "# madx = Madx(stdout=True)\n",
    "madx = Madx()"
   ]
  },
  {
   "cell_type": "markdown",
   "id": "67ee5291-24f8-45a0-b763-9569eeec5544",
   "metadata": {},
   "source": [
    "#### In order to do this tutorial, we will use as starting point, the thin lens version of the lattice designed in Tutorial 3 and we will consider a 7 TeV total energy proton beam. Here, the use of a thin lens lattice is mandatory in order to use the track MAD-X module. The makethin command should be used for this purpose. Additionally, after running the makethin command, it will be necessary to perform a rematch of the lattice to ensure that the horizontal and vertical tunes of the FODO cell remain at 0.25 (Tutorial4.madx)"
   ]
  },
  {
   "cell_type": "markdown",
   "id": "aa53062a-5382-416d-899f-eca15cb10b64",
   "metadata": {},
   "source": [
    "# Questions"
   ]
  },
  {
   "cell_type": "markdown",
   "id": "ac7a2ce7-3a86-4023-8c83-7bb7830ac801",
   "metadata": {},
   "source": [
    "#### 1. Run the Tutorial4.madx file to compute the twiss of the new thin lens lattice. Using the chromaticities obtained, compute the tunes for $\\Delta p / p = 10^{-3}$. \n",
    "\n",
    "$\\Delta Q = dq \\times \\frac{\\Delta p}{p}$\n",
    "\n",
    "#### **REMEMBER** That the derivative functions in MAD-X are normalized by the relativistic factor beta, howere this exercice one can assume the ultra-relativistic beam approximation\n"
   ]
  },
  {
   "cell_type": "code",
   "execution_count": null,
   "id": "c167d386",
   "metadata": {},
   "outputs": [],
   "source": []
  },
  {
   "cell_type": "code",
   "execution_count": null,
   "id": "fd9883a1",
   "metadata": {},
   "outputs": [],
   "source": []
  },
  {
   "cell_type": "markdown",
   "id": "f6e6469f",
   "metadata": {},
   "source": [
    "#### 2. Track two particles, one with initial coordinates x, y, px, py = (1 mm, 1 mm, 0, 0) and another one with initial coordinates x, y, px, py = (100 mm, 100 mm, 0, 0) in 100 turns. Plot the horizontal and vertical phase space, x-px and y-py respectively. How do the particles move in the phase space turn after turn? Do you see the tunes? Do you see any difference between the two particles? It may help to look only at the first 4 turns to get a clear picture\n",
    "\n",
    "\t\ttrack, dump, file = name, deltap = ??;\n",
    "\t\tstart, x = ??, px = ?? , y = ??, py = ??;\n",
    "\t\tstart, x = ??, px = ?? , y = ??, py = ??;\n",
    "\t\trun, turns = 100;\n",
    "   "
   ]
  },
  {
   "cell_type": "code",
   "execution_count": null,
   "id": "386e1559",
   "metadata": {},
   "outputs": [],
   "source": []
  },
  {
   "cell_type": "code",
   "execution_count": null,
   "id": "bdc6946b",
   "metadata": {},
   "outputs": [],
   "source": []
  },
  {
   "cell_type": "markdown",
   "id": "670d95d4",
   "metadata": {},
   "source": [
    "#### 3. Repeat the tracking exercise but now for two of-momentum particles by adding a $\\Delta p/p = 10^{-2}$ to the initial particles' conditions. How does the phase space look now? Is the tune still the same?"
   ]
  },
  {
   "cell_type": "code",
   "execution_count": null,
   "id": "6219c627",
   "metadata": {},
   "outputs": [],
   "source": []
  },
  {
   "cell_type": "code",
   "execution_count": null,
   "id": "4804e892-4f08-4f0d-a274-3e600b5119a9",
   "metadata": {},
   "outputs": [],
   "source": []
  }
 ],
 "metadata": {
  "kernelspec": {
   "display_name": "Python 3 (ipykernel)",
   "language": "python",
   "name": "python3"
  },
  "language_info": {
   "codemirror_mode": {
    "name": "ipython",
    "version": 3
   },
   "file_extension": ".py",
   "mimetype": "text/x-python",
   "name": "python",
   "nbconvert_exporter": "python",
   "pygments_lexer": "ipython3",
   "version": "3.11.5"
  }
 },
 "nbformat": 4,
 "nbformat_minor": 5
}
