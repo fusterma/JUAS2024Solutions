{
 "cells": [
  {
   "cell_type": "markdown",
   "id": "87543be3-8d46-419d-a504-40723a53d894",
   "metadata": {},
   "source": [
    "# Tutorial 5: Chromaticity correction and non-linearities"
   ]
  },
  {
   "cell_type": "markdown",
   "id": "7259ffce-080b-4515-a5d6-1632c4ff6490",
   "metadata": {},
   "source": [
    "# Python libraries "
   ]
  },
  {
   "cell_type": "code",
   "execution_count": 1,
   "id": "e0b0610e-33f2-4890-8507-f71a66df4a87",
   "metadata": {},
   "outputs": [],
   "source": [
    "#########################################\n",
    "# Python libraries                      #\n",
    "#########################################\n",
    "from matplotlib import pyplot as plt\n",
    "import numpy as np\n",
    "import pandas as pd\n",
    "\n",
    "#########################################\n",
    "# Cpymad library                        #\n",
    "#########################################\n",
    "from cpymad.madx import Madx "
   ]
  },
  {
   "cell_type": "markdown",
   "id": "b196e291-2db5-48b8-b20c-b129ff0e0d75",
   "metadata": {},
   "source": [
    "# Launching MAD-X"
   ]
  },
  {
   "cell_type": "code",
   "execution_count": 3,
   "id": "8494ebe3-c5a7-4263-8bb7-97dcfd006e91",
   "metadata": {},
   "outputs": [
    {
     "name": "stdout",
     "output_type": "stream",
     "text": [
      "\n",
      "  ++++++++++++++++++++++++++++++++++++++++++++\n",
      "  +     MAD-X 5.07.00  (64 bit, Darwin)      +\n",
      "  + Support: mad@cern.ch, http://cern.ch/mad +\n",
      "  + Release   date: 2021.05.03               +\n",
      "  + Execution date: 2022.12.06 17:12:27      +\n",
      "  ++++++++++++++++++++++++++++++++++++++++++++\n"
     ]
    }
   ],
   "source": [
    "# madx = Madx(stdout=True)\n",
    "madx = Madx()"
   ]
  },
  {
   "cell_type": "markdown",
   "id": "13e2eabd-52f7-4dc3-b22e-f2ec75abd541",
   "metadata": {},
   "source": [
    "# Questions"
   ]
  },
  {
   "cell_type": "markdown",
   "id": "7a4f7390-9837-4931-8129-08b9db970387",
   "metadata": {
    "tags": []
   },
   "source": [
    "#### 1. Install two 0.5 m long sextupoles attached to the two quadrupoles. With a MAD-X matching block adjust the vertical and horizontal chromaticity of the cell (global parameters: DQ1 and DQ2) to zero, by powering the two sextupoles. \n",
    "\n",
    "#### In order to install the sextupoles in the lattice, first define the new element with the appropriate MAD-X command:\n",
    "\n",
    "        sm : sextupole, k2 = ??, l = ??; \n",
    "\n",
    "#### Then, introduce them into the sequence description block:\n",
    "\n",
    "        s1 : sm, at = ??; \n",
    "        \n",
    "#### Then, with a MAD-X matching block adjust the vertical and horizontal chromaticity of the cell (global parameters: DQ1 and DQ2) to zero, by powering the two sextupoles. "
   ]
  },
  {
   "cell_type": "code",
   "execution_count": null,
   "id": "68c7b07c-6c57-42b3-b9a5-adca2e4f2300",
   "metadata": {},
   "outputs": [],
   "source": []
  },
  {
   "cell_type": "code",
   "execution_count": null,
   "id": "f0382b53",
   "metadata": {},
   "outputs": [],
   "source": []
  },
  {
   "cell_type": "markdown",
   "id": "b821f47c",
   "metadata": {},
   "source": [
    "#### 2. Using the strength of the sextupoles and the linear optics functions ($\\beta$-function and dispersion) at the sextupole' location, evaluate the sextupole's contribution to the chromaticity on the horizontal plane using the following equation:  "
   ]
  },
  {
   "cell_type": "markdown",
   "id": "4e45bd22",
   "metadata": {},
   "source": [
    "**Sextupoles contribution to the chromaticity using the formula:**\n",
    "$$\\xi = \\frac{1}{4*\\pi}*(\\beta_{x,S1}*K2_1*Dx_{S1}+\\beta_{x,S2}*K2_2*Dx_{S2})$$"
   ]
  },
  {
   "cell_type": "code",
   "execution_count": null,
   "id": "2b788c4b",
   "metadata": {},
   "outputs": [],
   "source": []
  },
  {
   "cell_type": "code",
   "execution_count": null,
   "id": "23262c80",
   "metadata": {},
   "outputs": [],
   "source": []
  },
  {
   "cell_type": "code",
   "execution_count": null,
   "id": "88832395-4b06-4651-88ca-6ecd3a315754",
   "metadata": {},
   "outputs": [],
   "source": []
  },
  {
   "cell_type": "markdown",
   "id": "5315bb5b-d29d-4441-a94e-4b3b5a228b67",
   "metadata": {},
   "source": [
    "#### 3. Track two particles, one with initial coordinates x, y, px, py = (1 mm, 1 mm, 0, 0) and another one with initial coordinates x, y, px, py = (100 mm, 100 mm, 0, 0) and both with $\\Delta p/p$ = 0.01 for 100 turns. Plot the horizontal and vertical phase space, x-px and y-py respectively. Did you manage to recover the original tune for the off-momentum particle from Tutorial 4? Do you see the tunes? What is going on? \n",
    "    \n",
    "    track, dump, deltap=0.01; \n",
    "    start, x=1e-3, px=0, y=1e-3, py=0;\n",
    "    start, x=1e-1, px=0, y=1e-1, py=0;\n",
    "    run, turns=100;   \n",
    "    endtrack; \n",
    " "
   ]
  },
  {
   "cell_type": "code",
   "execution_count": null,
   "id": "e6d78830",
   "metadata": {},
   "outputs": [],
   "source": []
  },
  {
   "cell_type": "code",
   "execution_count": null,
   "id": "f782105b-3755-4e66-b8d9-f433bb4ff440",
   "metadata": {},
   "outputs": [],
   "source": []
  },
  {
   "cell_type": "markdown",
   "id": "4f8fc1cb",
   "metadata": {},
   "source": [
    "#### 4. Move the tunes to (0.23, 0.23) and repeat the previous point. Is now the particle stable? "
   ]
  },
  {
   "cell_type": "code",
   "execution_count": null,
   "id": "11f410ce-fe3f-4e86-b2f9-cab9a7be6ed1",
   "metadata": {},
   "outputs": [],
   "source": []
  },
  {
   "cell_type": "code",
   "execution_count": null,
   "id": "a81d5b65-5f60-43a2-8b5c-4269d1ffa145",
   "metadata": {},
   "outputs": [],
   "source": []
  },
  {
   "cell_type": "code",
   "execution_count": null,
   "id": "633f0687-291f-4664-bedd-805062fd620d",
   "metadata": {},
   "outputs": [],
   "source": []
  }
 ],
 "metadata": {
  "kernelspec": {
   "display_name": "Python 3 (ipykernel)",
   "language": "python",
   "name": "python3"
  },
  "language_info": {
   "codemirror_mode": {
    "name": "ipython",
    "version": 3
   },
   "file_extension": ".py",
   "mimetype": "text/x-python",
   "name": "python",
   "nbconvert_exporter": "python",
   "pygments_lexer": "ipython3",
   "version": "3.11.5"
  }
 },
 "nbformat": 4,
 "nbformat_minor": 5
}
